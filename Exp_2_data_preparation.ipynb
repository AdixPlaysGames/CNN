{
 "cells": [
  {
   "cell_type": "code",
   "execution_count": 3,
   "id": "ffe065e7",
   "metadata": {},
   "outputs": [],
   "source": [
    "import torch\n",
    "import torch.nn as nn\n",
    "import torch.nn.functional as F\n",
    "from torch.autograd import Variable\n",
    "import torch.optim as optim\n",
    "from torchvision import datasets, transforms\n",
    "from types import SimpleNamespace\n",
    "import matplotlib.pyplot as plt\n",
    "import numpy as np\n",
    "import os"
   ]
  },
  {
   "cell_type": "code",
   "execution_count": 4,
   "id": "348ea0d8",
   "metadata": {},
   "outputs": [],
   "source": [
    "# Here we collect the hyperparameters we are going to use\n",
    "args = SimpleNamespace(batch_size=64, test_batch_size=1000, epochs=1,\n",
    "                       lr=0.01, momentum=0.5, seed=1, log_interval=100)\n",
    "torch.manual_seed(args.seed)\n",
    "use_cuda = torch.cuda.is_available()\n",
    "device = torch.device('cuda' if use_cuda else 'cpu')"
   ]
  },
  {
   "cell_type": "code",
   "execution_count": 5,
   "id": "25673244",
   "metadata": {},
   "outputs": [
    {
     "name": "stdout",
     "output_type": "stream",
     "text": [
      "Downloading http://fashion-mnist.s3-website.eu-central-1.amazonaws.com/train-images-idx3-ubyte.gz\n",
      "Downloading http://fashion-mnist.s3-website.eu-central-1.amazonaws.com/train-images-idx3-ubyte.gz to .\\..\\data\\FashionMNIST\\raw\\train-images-idx3-ubyte.gz\n"
     ]
    },
    {
     "name": "stderr",
     "output_type": "stream",
     "text": [
      "100.0%\n"
     ]
    },
    {
     "name": "stdout",
     "output_type": "stream",
     "text": [
      "Extracting .\\..\\data\\FashionMNIST\\raw\\train-images-idx3-ubyte.gz to .\\..\\data\\FashionMNIST\\raw\n",
      "\n",
      "Downloading http://fashion-mnist.s3-website.eu-central-1.amazonaws.com/train-labels-idx1-ubyte.gz\n",
      "Downloading http://fashion-mnist.s3-website.eu-central-1.amazonaws.com/train-labels-idx1-ubyte.gz to .\\..\\data\\FashionMNIST\\raw\\train-labels-idx1-ubyte.gz\n"
     ]
    },
    {
     "name": "stderr",
     "output_type": "stream",
     "text": [
      "100.0%\n"
     ]
    },
    {
     "name": "stdout",
     "output_type": "stream",
     "text": [
      "Extracting .\\..\\data\\FashionMNIST\\raw\\train-labels-idx1-ubyte.gz to .\\..\\data\\FashionMNIST\\raw\n",
      "\n",
      "Downloading http://fashion-mnist.s3-website.eu-central-1.amazonaws.com/t10k-images-idx3-ubyte.gz\n",
      "Downloading http://fashion-mnist.s3-website.eu-central-1.amazonaws.com/t10k-images-idx3-ubyte.gz to .\\..\\data\\FashionMNIST\\raw\\t10k-images-idx3-ubyte.gz\n"
     ]
    },
    {
     "name": "stderr",
     "output_type": "stream",
     "text": [
      "100.0%\n"
     ]
    },
    {
     "name": "stdout",
     "output_type": "stream",
     "text": [
      "Extracting .\\..\\data\\FashionMNIST\\raw\\t10k-images-idx3-ubyte.gz to .\\..\\data\\FashionMNIST\\raw\n",
      "\n",
      "Downloading http://fashion-mnist.s3-website.eu-central-1.amazonaws.com/t10k-labels-idx1-ubyte.gz\n"
     ]
    },
    {
     "name": "stderr",
     "output_type": "stream",
     "text": [
      "100.0%"
     ]
    },
    {
     "name": "stdout",
     "output_type": "stream",
     "text": [
      "Downloading http://fashion-mnist.s3-website.eu-central-1.amazonaws.com/t10k-labels-idx1-ubyte.gz to .\\..\\data\\FashionMNIST\\raw\\t10k-labels-idx1-ubyte.gz\n",
      "Extracting .\\..\\data\\FashionMNIST\\raw\\t10k-labels-idx1-ubyte.gz to .\\..\\data\\FashionMNIST\\raw\n",
      "\n"
     ]
    },
    {
     "name": "stderr",
     "output_type": "stream",
     "text": [
      "\n"
     ]
    }
   ],
   "source": [
    "# Data loader (downloads data automatically the first time)\n",
    "# 0.1307 and 0.3081 are the mean and the std computed on the training set\n",
    "kwargs = {'num_workers': 1, 'pin_memory': True} if use_cuda else {}\n",
    "train_loader = torch.utils.data.DataLoader(\n",
    "    datasets.FashionMNIST(os.path.join('.','..','data'), train=True, download=True,\n",
    "                   transform=transforms.Compose([\n",
    "                       transforms.ToTensor(),\n",
    "                       transforms.Normalize((0.1307,), (0.3081,))\n",
    "                   ])),\n",
    "    batch_size=args.batch_size, shuffle=True, **kwargs)\n",
    "test_loader = torch.utils.data.DataLoader(\n",
    "    datasets.FashionMNIST(os.path.join('.','..','data'), train=False, transform=transforms.Compose([\n",
    "                       transforms.ToTensor(),\n",
    "                       transforms.Normalize((0.1307,), (0.3081,))\n",
    "                   ])),\n",
    "        batch_size=args.test_batch_size, shuffle=True, **kwargs)"
   ]
  },
  {
   "cell_type": "code",
   "execution_count": 6,
   "id": "bd6329fc",
   "metadata": {},
   "outputs": [],
   "source": [
    "def pick_2_images(xa ,ya, label_a, xb, yb, label_b, xc, yc, label_c):\n",
    "    a, b = np.random.choice(3, 2, replace=False)\n",
    "    if a == 0:\n",
    "        x1,y1,label_1 = xa,ya,label_a\n",
    "    elif a == 1:\n",
    "        x1,y1,label_1 = xb,yb,label_b\n",
    "    else:\n",
    "        x1,y1,label_1 = xc,yc,label_c\n",
    "        \n",
    "    if b == 0:\n",
    "        x2,y2,label_2 = xa,ya,label_a\n",
    "    elif b == 1:\n",
    "        x2,y2,label_2 = xb,yb,label_b\n",
    "    else:\n",
    "        x2,y2,label_2 = xc,yc,label_c\n",
    "        \n",
    "    if a!=0 and b!=0:\n",
    "        x3,y3,label_3 = xa,ya,label_a\n",
    "    elif a!=1 and b!=1:\n",
    "        x3,y3,label_3 = xb,yb,label_b\n",
    "    else:\n",
    "        x3,y3,label_3 = xc,yc,label_c\n",
    "        \n",
    "    return x1,y1,label_1,x2,y2,label_2, x3,y3,label_3\n",
    "\n",
    "def number_to_binary_vector(number):\n",
    "    binary_vector = [0] * 10\n",
    "    binary_vector[number] = 1\n",
    "    return binary_vector\n",
    "\n",
    "def spatial_relation_labels(x1,y1,x2,y2):\n",
    "    \n",
    "    if y1 == y2 and x1 < x2:\n",
    "        label = \"left\"\n",
    "    elif y1 == y2 and x1 > x2:\n",
    "        label = \"right\"\n",
    "    elif x1 == x2 and y1 < y2:\n",
    "        label = \"above\"\n",
    "    elif x1 == x2 and y1 > y2:\n",
    "        label = \"below\"\n",
    "    elif x1 < x2 and y1 < y2:\n",
    "        label = \"above left\"\n",
    "    elif x1 > x2 and y1 < y2:\n",
    "        label = \"above right\"\n",
    "    elif x1 > x2 and y1 > y2:\n",
    "        label = \"below right\"\n",
    "    else:\n",
    "        label = \"below left\"\n",
    "    return label"
   ]
  },
  {
   "cell_type": "code",
   "execution_count": 7,
   "id": "146dc495",
   "metadata": {
    "scrolled": false
   },
   "outputs": [],
   "source": [
    "def create_samples_with_non_overlapping_images_and_vectors(train_loader, num_samples=100):\n",
    "\n",
    "    samples = []\n",
    "    for _ in range(num_samples):\n",
    "        background = torch.zeros(1, 56, 56)\n",
    "        idx1, idx2, idx3 = np.random.choice(len(train_loader.dataset), 3, replace=False)\n",
    "        img1, label_1 = train_loader.dataset[idx1]\n",
    "        img2, label_2 = train_loader.dataset[idx2]\n",
    "        img3, label_3 = train_loader.dataset[idx3]\n",
    "        \n",
    "        while True:\n",
    "            if label_1 == label_2:\n",
    "                idx2 = np.random.choice(len(train_loader.dataset), 1, replace=False)[0]\n",
    "                img2, label_2 = train_loader.dataset[idx2]\n",
    "                continue\n",
    "            if label_1 == label_3:\n",
    "                idx3 = np.random.choice(len(train_loader.dataset), 1, replace=False)[0]\n",
    "                img3, label_3 = train_loader.dataset[idx3]\n",
    "                continue\n",
    "            if label_2 == label_3:\n",
    "                idx3 = np.random.choice(len(train_loader.dataset), 1, replace=False)[0]\n",
    "                img3, label_3 = train_loader.dataset[idx3]\n",
    "                continue\n",
    "            break\n",
    "\n",
    "        img1 = (img1 - img1.min()) / (img1.max() - img1.min())\n",
    "        img2 = (img2 - img2.min()) / (img2.max() - img2.min())\n",
    "        img3 = (img3 - img3.min()) / (img3.max() - img3.min())\n",
    "        \n",
    "        a = np.random.randint(0, 4)\n",
    "        \n",
    "        if a%2 ==0:\n",
    "            y1 = 0\n",
    "            y2 = 28\n",
    "            y3 = np.random.randint(0, 28)\n",
    "            if a == 0:\n",
    "                x1 = 0\n",
    "                x2 = 0\n",
    "                x3 = 28\n",
    "            else:\n",
    "                x1 = 28\n",
    "                x2 = 28\n",
    "                x3 = 0\n",
    "        else:\n",
    "            x1 = 0\n",
    "            x2 = 28\n",
    "            x3 = np.random.randint(0, 28)\n",
    "            if a == 1:\n",
    "                y1 = 0\n",
    "                y2 = 0\n",
    "                y3 = 28\n",
    "            else:\n",
    "                y1 = 28\n",
    "                y2 = 28\n",
    "                y3 = 0\n",
    "        \n",
    "        xa ,ya, label_a, xb, yb, label_b, xc, yc, label_c = pick_2_images(x1,y1,label_1,x2,y2,label_2, x3,y3,label_3)\n",
    "        \n",
    "        spatial_label = spatial_relation_labels(xa,ya,xb,yb)\n",
    "        \n",
    "        background[:, y1:y1+28, x1:x1+28] = img1\n",
    "        background[:, y2:y2+28, x2:x2+28] = img2\n",
    "        background[:, y3:y3+28, x3:x3+28] = img3\n",
    "\n",
    "        vector_1 = number_to_binary_vector(label_a)\n",
    "        vector_2 = number_to_binary_vector(label_b)\n",
    "        samples.append((background, vector_1, vector_2, spatial_label))\n",
    "\n",
    "    return samples"
   ]
  },
  {
   "cell_type": "markdown",
   "id": "f94c4ab9",
   "metadata": {},
   "source": [
    "## Examples"
   ]
  },
  {
   "cell_type": "code",
   "execution_count": 8,
   "id": "6f19198e",
   "metadata": {
    "scrolled": false
   },
   "outputs": [
    {
     "name": "stdout",
     "output_type": "stream",
     "text": [
      "Example nr 1: \n",
      "Input: \n",
      "\tlabel 1:  [1, 0, 0, 0, 0, 0, 0, 0, 0, 0]\n",
      "\tlabel 2:  [0, 0, 0, 0, 0, 0, 0, 1, 0, 0]\n"
     ]
    },
    {
     "data": {
      "image/png": "[encoded data removed]",
      "text/plain": [
       "<Figure size 640x480 with 1 Axes>"
      ]
     },
     "metadata": {},
     "output_type": "display_data"
    },
    {
     "name": "stdout",
     "output_type": "stream",
     "text": [
      "Output:  below left \n",
      "\n",
      "Example nr 2: \n",
      "Input: \n",
      "\tlabel 1:  [0, 0, 0, 0, 0, 0, 1, 0, 0, 0]\n",
      "\tlabel 2:  [0, 1, 0, 0, 0, 0, 0, 0, 0, 0]\n"
     ]
    },
    {
     "data": {
      "image/png": "[encoded data removed]",
      "text/plain": [
       "<Figure size 640x480 with 1 Axes>"
      ]
     },
     "metadata": {},
     "output_type": "display_data"
    },
    {
     "name": "stdout",
     "output_type": "stream",
     "text": [
      "Output:  above left \n",
      "\n",
      "Example nr 3: \n",
      "Input: \n",
      "\tlabel 1:  [0, 0, 0, 0, 0, 0, 0, 0, 0, 1]\n",
      "\tlabel 2:  [0, 0, 0, 0, 0, 0, 0, 0, 1, 0]\n"
     ]
    },
    {
     "data": {
      "image/png": "[encoded data removed]",
      "text/plain": [
       "<Figure size 640x480 with 1 Axes>"
      ]
     },
     "metadata": {},
     "output_type": "display_data"
    },
    {
     "name": "stdout",
     "output_type": "stream",
     "text": [
      "Output:  below right \n",
      "\n",
      "Example nr 4: \n",
      "Input: \n",
      "\tlabel 1:  [0, 0, 0, 0, 0, 0, 1, 0, 0, 0]\n",
      "\tlabel 2:  [0, 0, 1, 0, 0, 0, 0, 0, 0, 0]\n"
     ]
    },
    {
     "data": {
      "image/png": "[encoded data removed]",
      "text/plain": [
       "<Figure size 640x480 with 1 Axes>"
      ]
     },
     "metadata": {},
     "output_type": "display_data"
    },
    {
     "name": "stdout",
     "output_type": "stream",
     "text": [
      "Output:  above right \n",
      "\n",
      "Example nr 5: \n",
      "Input: \n",
      "\tlabel 1:  [0, 0, 0, 0, 0, 0, 0, 0, 1, 0]\n",
      "\tlabel 2:  [0, 0, 0, 1, 0, 0, 0, 0, 0, 0]\n"
     ]
    },
    {
     "data": {
      "image/png": "[encoded data removed]",
      "text/plain": [
       "<Figure size 640x480 with 1 Axes>"
      ]
     },
     "metadata": {},
     "output_type": "display_data"
    },
    {
     "name": "stdout",
     "output_type": "stream",
     "text": [
      "Output:  below right \n",
      "\n"
     ]
    }
   ],
   "source": [
    "samples = create_samples_with_non_overlapping_images_and_vectors(train_loader,5)\n",
    "\n",
    "for i in range(5):\n",
    "    img, label_1, label_2, spatial_relation = samples[i]\n",
    "    print(f\"Example nr {i+1}: \")\n",
    "    print(\"Input: \")\n",
    "    print(\"\\tlabel 1: \", label_1)\n",
    "    print(\"\\tlabel 2: \", label_2)\n",
    "    plt.imshow(img.permute(1, 2, 0), cmap='gray')\n",
    "    plt.axis('off')\n",
    "    plt.show()\n",
    "    print(\"Output: \", spatial_relation,\"\\n\")    \n"
   ]
  },
  {
   "cell_type": "markdown",
   "id": "605d6613",
   "metadata": {},
   "source": [
    "### Saving data to a file"
   ]
  },
  {
   "cell_type": "markdown",
   "id": "ea56f055",
   "metadata": {},
   "source": [
    "creating new samples, choose the number you want (recommended to delete previous directories)"
   ]
  },
  {
   "cell_type": "markdown",
   "id": "c153c2f4",
   "metadata": {},
   "source": [
    "method for saving samples"
   ]
  },
  {
   "cell_type": "code",
   "execution_count": 26,
   "id": "afd3f2fd",
   "metadata": {},
   "outputs": [],
   "source": [
    "import os\n",
    "import pickle\n",
    "import torch\n",
    "import matplotlib.pyplot as plt\n",
    "\n",
    "def save_samples(samples, output_dir='saved_samples'):\n",
    "    # Create the output directory if it doesn't exist\n",
    "    if not os.path.exists(output_dir):\n",
    "        os.makedirs(output_dir)\n",
    "\n",
    "    for i, sample in enumerate(samples):\n",
    "        img, label_1, label_2, spatial_relation = sample\n",
    "\n",
    "        # Define paths for the image, data and tensor for the image\n",
    "        sample_dir = os.path.join(output_dir, f'sample_{i+1}')\n",
    "        os.makedirs(sample_dir, exist_ok=True)\n",
    "        \n",
    "        img_path = os.path.join(sample_dir, f'image.png')\n",
    "        data_path = os.path.join(sample_dir, 'data.pkl')\n",
    "        tensor_path = os.path.join(sample_dir, 'tensor.pth')\n",
    "\n",
    "        # Save the image\n",
    "        plt.imshow(img.permute(1, 2, 0), cmap='gray')\n",
    "        plt.axis('off')\n",
    "        plt.savefig(img_path)\n",
    "        plt.close()\n",
    "\n",
    "        # Save the tensor\n",
    "        torch.save(img, tensor_path)\n",
    "\n",
    "        # Save the labels and spatial relationship\n",
    "        with open(data_path, 'wb') as file:\n",
    "            pickle.dump({'label_1': label_1, 'label_2': label_2, 'spatial_relation': spatial_relation}, file)\n"
   ]
  },
  {
   "cell_type": "code",
   "execution_count": 40,
   "id": "eba1caf1",
   "metadata": {},
   "outputs": [],
   "source": [
    "import random\n"
   ]
  },
  {
   "cell_type": "markdown",
   "id": "3976531d",
   "metadata": {},
   "source": [
    "saving samples"
   ]
  },
  {
   "cell_type": "code",
   "execution_count": 42,
   "id": "0216df11",
   "metadata": {},
   "outputs": [],
   "source": [
    "output_dir = 'output_samples'\n",
    "os.makedirs(output_dir, exist_ok=True)\n",
    "samples = create_samples_with_non_overlapping_images_and_vectors(train_loader, 10000)\n",
    "\n",
    "random.shuffle(samples)\n",
    "save_samples(samples[:8000], output_dir)\n",
    "output_dir = 'val_samples'\n",
    "os.makedirs(output_dir, exist_ok=True)\n",
    "save_samples(samples[8000:], output_dir)"
   ]
  },
  {
   "cell_type": "code",
   "execution_count": 43,
   "id": "73b71822",
   "metadata": {},
   "outputs": [],
   "source": [
    "output_dir = 'test_samples'\n",
    "os.makedirs(output_dir, exist_ok=True)\n",
    "samples = create_samples_with_non_overlapping_images_and_vectors(train_loader, 2000)\n",
    "save_samples(samples, output_dir)"
   ]
  }
 ],
 "metadata": {
  "kernelspec": {
   "display_name": "Python 3 (ipykernel)",
   "language": "python",
   "name": "python3"
  },
  "language_info": {
   "codemirror_mode": {
    "name": "ipython",
    "version": 3
   },
   "file_extension": ".py",
   "mimetype": "text/x-python",
   "name": "python",
   "nbconvert_exporter": "python",
   "pygments_lexer": "ipython3",
   "version": "3.12.2"
  }
 },
 "nbformat": 4,
 "nbformat_minor": 5
}
