{
 "cells": [
  {
   "cell_type": "code",
   "execution_count": 1,
   "id": "ffe065e7",
   "metadata": {},
   "outputs": [],
   "source": [
    "import torch\n",
    "import torch.nn as nn\n",
    "import torch.nn.functional as F\n",
    "from torch.autograd import Variable\n",
    "import torch.optim as optim\n",
    "from torchvision import datasets, transforms\n",
    "from types import SimpleNamespace\n",
    "import matplotlib.pyplot as plt\n",
    "import numpy as np\n",
    "import os"
   ]
  },
  {
   "cell_type": "code",
   "execution_count": 2,
   "id": "348ea0d8",
   "metadata": {},
   "outputs": [],
   "source": [
    "# Here we collect the hyperparameters we are going to use\n",
    "args = SimpleNamespace(batch_size=64, test_batch_size=1000, epochs=1,\n",
    "                       lr=0.01, momentum=0.5, seed=1, log_interval=100)\n",
    "torch.manual_seed(args.seed)\n",
    "use_cuda = torch.cuda.is_available()\n",
    "device = torch.device('cuda' if use_cuda else 'cpu')"
   ]
  },
  {
   "cell_type": "code",
   "execution_count": 3,
   "id": "25673244",
   "metadata": {},
   "outputs": [],
   "source": [
    "# Data loader (downloads data automatically the first time)\n",
    "# 0.1307 and 0.3081 are the mean and the std computed on the training set\n",
    "kwargs = {'num_workers': 1, 'pin_memory': True} if use_cuda else {}\n",
    "train_loader = torch.utils.data.DataLoader(\n",
    "    datasets.FashionMNIST(os.path.join('.','..','data'), train=True, download=True,\n",
    "                   transform=transforms.Compose([\n",
    "                       transforms.ToTensor(),\n",
    "                       transforms.Normalize((0.1307,), (0.3081,))\n",
    "                   ])),\n",
    "    batch_size=args.batch_size, shuffle=True, **kwargs)\n",
    "test_loader = torch.utils.data.DataLoader(\n",
    "    datasets.FashionMNIST(os.path.join('.','..','data'), train=False, transform=transforms.Compose([\n",
    "                       transforms.ToTensor(),\n",
    "                       transforms.Normalize((0.1307,), (0.3081,))\n",
    "                   ])),\n",
    "        batch_size=args.test_batch_size, shuffle=True, **kwargs)"
   ]
  },
  {
   "cell_type": "code",
   "execution_count": 4,
   "id": "74ddac2d",
   "metadata": {},
   "outputs": [],
   "source": [
    "def number_to_binary_vector(number):\n",
    "    binary_vector = [0] * 10\n",
    "    binary_vector[number] = 1\n",
    "    return binary_vector\n",
    "\n",
    "def spatial_label_to_vector(label):\n",
    "    binary_vector = [0] * 4\n",
    "    if label == \"left\":\n",
    "        binary_vector[0] = 1\n",
    "    elif label == \"above\":\n",
    "        binary_vector[1] = 1\n",
    "    elif label == \"below left\":\n",
    "        binary_vector[2] = 1\n",
    "    if label == \"below right\":\n",
    "        binary_vector[3] = 1\n",
    "    return binary_vector\n",
    "\n",
    "def outcomeVector(label_1, label_2, spatial_label):\n",
    "    if spatial_label == \"above right\":\n",
    "        label_1, label_2 = label_2, label_1\n",
    "        spatial_label = \"below left\"\n",
    "    elif spatial_label == \"above left\":\n",
    "        label_1, label_2 = label_2, label_1\n",
    "        spatial_label = \"below right\"\n",
    "    vector1 = number_to_binary_vector(label_1)\n",
    "    vector2 = number_to_binary_vector(label_2)\n",
    "    vector12 = np.concatenate((vector1, vector2))\n",
    "    vector3 = spatial_label_to_vector(spatial_label)\n",
    "    vector = np.concatenate((vector12, vector3))\n",
    "    return vector\n",
    "\n",
    "def spatial_relation_labels(x1,y1,x2,y2):\n",
    "    \n",
    "    if y1 == y2:\n",
    "        label = \"left\"\n",
    "    elif x1 == x2:\n",
    "        label = \"above\"\n",
    "    elif x1< x2 and y1 < y2:\n",
    "        label = \"above left\"\n",
    "    elif x1 > x2 and y1 < y2:\n",
    "        label = \"above right\"\n",
    "    else:\n",
    "        label = \"below left\"\n",
    "    return label"
   ]
  },
  {
   "cell_type": "code",
   "execution_count": 5,
   "id": "27640064",
   "metadata": {
    "scrolled": false
   },
   "outputs": [],
   "source": [
    "def create_samples_with_non_overlapping_images_and_vectors(train_loader, num_samples=100):\n",
    "    # creates a number of images containing three random items from FashionMNIST dataset with two vectors of 10 binary values, \n",
    "    # which encode names of the two items in the image and their spatial relation, and the name of the spatial relation between\n",
    "    # the two items \n",
    "    samples = []\n",
    "    for _ in range(num_samples):\n",
    "        background = torch.zeros(1, 56, 56)\n",
    "\n",
    "        idx1, idx2 = np.random.choice(len(train_loader.dataset), 2, replace=False)\n",
    "        img1, label_1 = train_loader.dataset[idx1]\n",
    "        img2, label_2 = train_loader.dataset[idx2]\n",
    "        \n",
    "        while True:\n",
    "            if label_1 == label_2:\n",
    "                idx2 = np.random.choice(len(train_loader.dataset), 1, replace=False)[0]\n",
    "                img2, label_2 = train_loader.dataset[idx2]\n",
    "                continue\n",
    "            else:\n",
    "                break\n",
    "\n",
    "        img1 = (img1 - img1.min()) / (img1.max() - img1.min())\n",
    "        img2 = (img2 - img2.min()) / (img2.max() - img2.min())\n",
    "        \n",
    "        a = np.random.randint(-27, 28)\n",
    "\n",
    "        if a >= 0:\n",
    "            x1 = a\n",
    "            y1 = 0\n",
    "        else:\n",
    "            x1 = 0\n",
    "            y1 = abs(a)\n",
    "        \n",
    "        if x1 > 0 and y1 == 0:\n",
    "            y2 = 27\n",
    "            x2 = np.random.randint(0, 28)\n",
    "        elif x1 == 0 and y1 == 0:\n",
    "            b = np.random.randint(0, 56)\n",
    "            if b < 28:\n",
    "                x2 = b\n",
    "                y2 = 27\n",
    "            else:\n",
    "                x2 = 27\n",
    "                y2 = 55 - b\n",
    "        else:\n",
    "            x2 = 27\n",
    "            y2 = np.random.randint(0, 28)\n",
    "            \n",
    "        background[:, y1:y1+28, x1:x1+28] = img1\n",
    "        background[:, y2:y2+28, x2:x2+28] = img2\n",
    "        spatial_label = spatial_relation_labels(x1,y1,x2,y2)\n",
    "        vector = outcomeVector(label_1, label_2, spatial_label)\n",
    "\n",
    "        samples.append((background, vector))\n",
    "\n",
    "    return samples"
   ]
  },
  {
   "cell_type": "markdown",
   "id": "f94c4ab9",
   "metadata": {},
   "source": [
    "## Examples"
   ]
  },
  {
   "cell_type": "code",
   "execution_count": 6,
   "id": "633ef189",
   "metadata": {
    "scrolled": false
   },
   "outputs": [
    {
     "name": "stdout",
     "output_type": "stream",
     "text": [
      "Example nr 1: \n",
      "Input: \n"
     ]
    },
    {
     "data": {
      "image/png": "[encoded data removed]",
      "text/plain": [
       "<Figure size 640x480 with 1 Axes>"
      ]
     },
     "metadata": {},
     "output_type": "display_data"
    },
    {
     "name": "stdout",
     "output_type": "stream",
     "text": [
      "Output:  [0 0 0 0 0 0 0 0 0 1 1 0 0 0 0 0 0 0 0 0 0 0 1 0] \n",
      "\n",
      "Example nr 2: \n",
      "Input: \n"
     ]
    },
    {
     "data": {
      "image/png": "[encoded data removed]",
      "text/plain": [
       "<Figure size 640x480 with 1 Axes>"
      ]
     },
     "metadata": {},
     "output_type": "display_data"
    },
    {
     "name": "stdout",
     "output_type": "stream",
     "text": [
      "Output:  [1 0 0 0 0 0 0 0 0 0 0 0 0 0 0 0 0 1 0 0 0 0 1 0] \n",
      "\n",
      "Example nr 3: \n",
      "Input: \n"
     ]
    },
    {
     "data": {
      "image/png": "[encoded data removed]",
      "text/plain": [
       "<Figure size 640x480 with 1 Axes>"
      ]
     },
     "metadata": {},
     "output_type": "display_data"
    },
    {
     "name": "stdout",
     "output_type": "stream",
     "text": [
      "Output:  [0 0 0 0 1 0 0 0 0 0 0 1 0 0 0 0 0 0 0 0 0 0 1 0] \n",
      "\n",
      "Example nr 4: \n",
      "Input: \n"
     ]
    },
    {
     "data": {
      "image/png": "[encoded data removed]",
      "text/plain": [
       "<Figure size 640x480 with 1 Axes>"
      ]
     },
     "metadata": {},
     "output_type": "display_data"
    },
    {
     "name": "stdout",
     "output_type": "stream",
     "text": [
      "Output:  [0 0 1 0 0 0 0 0 0 0 0 0 0 0 0 0 1 0 0 0 0 0 0 1] \n",
      "\n",
      "Example nr 5: \n",
      "Input: \n"
     ]
    },
    {
     "data": {
      "image/png": "[encoded data removed]",
      "text/plain": [
       "<Figure size 640x480 with 1 Axes>"
      ]
     },
     "metadata": {},
     "output_type": "display_data"
    },
    {
     "name": "stdout",
     "output_type": "stream",
     "text": [
      "Output:  [1 0 0 0 0 0 0 0 0 0 0 1 0 0 0 0 0 0 0 0 0 0 0 1] \n",
      "\n"
     ]
    }
   ],
   "source": [
    "samples = create_samples_with_non_overlapping_images_and_vectors(train_loader,5)\n",
    "\n",
    "for i in range(5):\n",
    "    img, vector = samples[i]\n",
    "    print(f\"Example nr {i+1}: \")\n",
    "    print(\"Input: \")\n",
    "    plt.imshow(img.permute(1, 2, 0), cmap='gray')\n",
    "    plt.axis('off')\n",
    "    plt.show()\n",
    "    print(\"Output: \", vector,\"\\n\")    "
   ]
  }
 ],
 "metadata": {
  "kernelspec": {
   "display_name": "Python 3 (ipykernel)",
   "language": "python",
   "name": "python3"
  },
  "language_info": {
   "codemirror_mode": {
    "name": "ipython",
    "version": 3
   },
   "file_extension": ".py",
   "mimetype": "text/x-python",
   "name": "python",
   "nbconvert_exporter": "python",
   "pygments_lexer": "ipython3",
   "version": "3.9.13"
  }
 },
 "nbformat": 4,
 "nbformat_minor": 5
}
