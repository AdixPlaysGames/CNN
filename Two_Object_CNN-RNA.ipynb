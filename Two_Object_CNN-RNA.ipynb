{
 "cells": [
  {
   "cell_type": "markdown",
   "id": "945c862f",
   "metadata": {},
   "source": [
    "# Two Object CNN Model "
   ]
  },
  {
   "cell_type": "markdown",
   "id": "1f2d4a21",
   "metadata": {},
   "source": [
    "## Libraries"
   ]
  },
  {
   "cell_type": "code",
   "execution_count": 2,
   "id": "ffe065e7",
   "metadata": {},
   "outputs": [],
   "source": [
    "import tensorflow as tf\n",
    "# from tensorflow.keras import layers\n",
    "import matplotlib.pyplot as plt\n",
    "import torch\n",
    "import torchvision\n",
    "import torch.optim as optim\n",
    "import torchvision.utils\n",
    "import torch.nn as nn\n",
    "import torch.nn.functional as F\n",
    "from torch.autograd import Variable\n",
    "import torch.optim as optim\n",
    "from torchvision import datasets, transforms\n",
    "from types import SimpleNamespace\n",
    "import matplotlib.pyplot as plt\n",
    "import numpy as np\n",
    "import os\n",
    "from sklearn.model_selection import train_test_split\n",
    "from torch.utils.data import random_split\n",
    "from torch.utils.data import DataLoader, SubsetRandomSampler\n",
    "from torchvision.datasets import FashionMNIST\n",
    "from torchvision.transforms import ToTensor\n",
    "from torch.utils.data import TensorDataset, DataLoader\n"
   ]
  },
  {
   "cell_type": "markdown",
   "id": "f7c18d71",
   "metadata": {},
   "source": [
    "## Functions"
   ]
  },
  {
   "cell_type": "code",
   "execution_count": 3,
   "id": "cfee7581",
   "metadata": {},
   "outputs": [],
   "source": [
    "\n",
    "# Define a function to calculate the output size after a convolution or pooling layer\n",
    "def conv2d_output_size(input_size, kernel_size, padding=0, stride=1):\n",
    "    output_size = (input_size - kernel_size + 2*padding) // stride + 1\n",
    "    return output_size\n",
    "\n",
    "# Define a function to calculate the size after a sequence of convolution and pooling\n",
    "def calculate_conv_output_size(input_size, *layers):\n",
    "    size = input_size\n",
    "    for layer in layers:\n",
    "        if isinstance(layer, nn.Conv2d):\n",
    "            size = conv2d_output_size(size, layer.kernel_size[0], padding=layer.padding[0], stride=layer.stride[0])\n",
    "        elif isinstance(layer, nn.MaxPool2d):\n",
    "            size = conv2d_output_size(size, layer.kernel_size, padding=layer.padding, stride=layer.stride)\n",
    "    return size\n",
    "\n",
    "def train_model(model, train_loader, val_loader, criterion, optimizer, num_epochs):\n",
    "    for epoch in range(num_epochs):\n",
    "        model.train()\n",
    "        running_loss = 0\n",
    "        for inputs, labels in train_loader:\n",
    "            inputs, labels = inputs.to(device), labels.to(device)\n",
    "\n",
    "            optimizer.zero_grad()\n",
    "            outputs = model(inputs)\n",
    "            loss = criterion(outputs, labels)\n",
    "            loss.backward()\n",
    "            optimizer.step()\n",
    "\n",
    "            running_loss += loss.item()\n",
    "\n",
    "        print(f'Epoch {epoch+1}, Loss: {running_loss / len(train_loader)}')\n",
    "\n",
    "        # Validation phase\n",
    "        model.eval()\n",
    "        val_loss = 0\n",
    "        with torch.no_grad():\n",
    "            for inputs, labels in val_loader:\n",
    "                inputs, labels = inputs.to(device), labels.to(device)\n",
    "                outputs = model(inputs)\n",
    "                loss = criterion(outputs, labels)\n",
    "                val_loss += loss.item()\n",
    "\n",
    "        print(f'Validation Loss: {val_loss / len(val_loader)}')"
   ]
  },
  {
   "cell_type": "code",
   "execution_count": 4,
   "id": "74ddac2d",
   "metadata": {},
   "outputs": [],
   "source": [
    "def number_to_binary_vector(number):\n",
    "    binary_vector = [0] * 10\n",
    "    binary_vector[number] = 1\n",
    "    return binary_vector\n",
    "\n",
    "def spatial_label_to_vector(label):\n",
    "    binary_vector = [0] * 4\n",
    "    if label == \"left\":\n",
    "        binary_vector[0] = 1\n",
    "    elif label == \"above\":\n",
    "        binary_vector[1] = 1\n",
    "    elif label == \"below left\":\n",
    "        binary_vector[2] = 1\n",
    "    if label == \"below right\":\n",
    "        binary_vector[3] = 1\n",
    "    return binary_vector\n",
    "\n",
    "def outcomeVector(label_1, label_2, spatial_label):\n",
    "    if spatial_label == \"above right\":\n",
    "        label_1, label_2 = label_2, label_1\n",
    "        spatial_label = \"below left\"\n",
    "    elif spatial_label == \"above left\":\n",
    "        label_1, label_2 = label_2, label_1\n",
    "        spatial_label = \"below right\"\n",
    "    vector1 = number_to_binary_vector(label_1)\n",
    "    vector2 = number_to_binary_vector(label_2)\n",
    "    vector12 = np.concatenate((vector1, vector2))\n",
    "    vector3 = spatial_label_to_vector(spatial_label)\n",
    "    vector = np.concatenate((vector12, vector3))\n",
    "    return vector\n",
    "\n",
    "def spatial_relation_labels(x1,y1,x2,y2):\n",
    "    \n",
    "    if y1 == y2:\n",
    "        label = \"left\"\n",
    "    elif x1 == x2:\n",
    "        label = \"above\"\n",
    "    elif x1< x2 and y1 < y2:\n",
    "        label = \"above left\"\n",
    "    elif x1 > x2 and y1 < y2:\n",
    "        label = \"above right\"\n",
    "    else:\n",
    "        label = \"below left\"\n",
    "    return label"
   ]
  },
  {
   "cell_type": "code",
   "execution_count": 5,
   "id": "27640064",
   "metadata": {
    "scrolled": false
   },
   "outputs": [],
   "source": [
    "def create_samples_with_non_overlapping_images_and_vectors(train_loader, num_samples=100):\n",
    "    # creates a number of images containing three random items from FashionMNIST dataset with two vectors of 10 binary values, \n",
    "    # which encode names of the two items in the image and their spatial relation, and the name of the spatial relation between\n",
    "    # the two items \n",
    "    samples = []\n",
    "    for _ in range(num_samples):\n",
    "        background = torch.zeros(1, 56, 56)\n",
    "\n",
    "        idx1, idx2 = np.random.choice(len(train_loader.dataset), 2, replace=False)\n",
    "        img1, label_1 = train_loader.dataset[idx1]\n",
    "        img2, label_2 = train_loader.dataset[idx2]\n",
    "        \n",
    "        while True:\n",
    "            if label_1 == label_2:\n",
    "                idx2 = np.random.choice(len(train_loader.dataset), 1, replace=False)[0]\n",
    "                img2, label_2 = train_loader.dataset[idx2]\n",
    "                continue\n",
    "            else:\n",
    "                break\n",
    "\n",
    "        img1 = (img1 - img1.min()) / (img1.max() - img1.min())\n",
    "        img2 = (img2 - img2.min()) / (img2.max() - img2.min())\n",
    "        \n",
    "        a = np.random.randint(-27, 28)\n",
    "\n",
    "        if a >= 0:\n",
    "            x1 = a\n",
    "            y1 = 0\n",
    "        else:\n",
    "            x1 = 0\n",
    "            y1 = abs(a)\n",
    "        \n",
    "        if x1 > 0 and y1 == 0:\n",
    "            y2 = 27\n",
    "            x2 = np.random.randint(0, 28)\n",
    "        elif x1 == 0 and y1 == 0:\n",
    "            b = np.random.randint(0, 56)\n",
    "            if b < 28:\n",
    "                x2 = b\n",
    "                y2 = 27\n",
    "            else:\n",
    "                x2 = 27\n",
    "                y2 = 55 - b\n",
    "        else:\n",
    "            x2 = 27\n",
    "            y2 = np.random.randint(0, 28)\n",
    "            \n",
    "        background[:, y1:y1+28, x1:x1+28] = img1\n",
    "        background[:, y2:y2+28, x2:x2+28] = img2\n",
    "        spatial_label = spatial_relation_labels(x1,y1,x2,y2)\n",
    "        vector = outcomeVector(label_1, label_2, spatial_label)\n",
    "\n",
    "        samples.append((background, vector))\n",
    "\n",
    "    return samples"
   ]
  },
  {
   "cell_type": "code",
   "execution_count": 6,
   "id": "74a8337e",
   "metadata": {},
   "outputs": [],
   "source": [
    "def transform_loader(data_loader, num_samples=None):\n",
    "    # Set num_samples to the size of the dataset if not specified\n",
    "    if num_samples is None:\n",
    "        num_samples = len(data_loader.dataset)\n",
    "    \n",
    "    # Transform the data using your existing function\n",
    "    transformed_data = create_samples_with_non_overlapping_images_and_vectors(data_loader, num_samples)\n",
    "    \n",
    "    # Return the transformed data\n",
    "    return transformed_data"
   ]
  },
  {
   "cell_type": "markdown",
   "id": "f7f34ba7",
   "metadata": {},
   "source": [
    "## Loading Data"
   ]
  },
  {
   "cell_type": "code",
   "execution_count": 7,
   "id": "25673244",
   "metadata": {},
   "outputs": [
    {
     "name": "stdout",
     "output_type": "stream",
     "text": [
      "Train data is 64.0% of the dataset\n",
      "Val data is 16.0% of the dataset\n",
      "Test data is 20.0% of the dataset\n"
     ]
    }
   ],
   "source": [
    "from torchvision import datasets, transforms\n",
    "import torch\n",
    "from sklearn.model_selection import train_test_split\n",
    "import os\n",
    "from argparse import Namespace as SimpleNamespace\n",
    "\n",
    "# Arguments\n",
    "args = SimpleNamespace(batch_size=64, test_batch_size=1000, epochs=1, lr=0.01, momentum=0.5, seed=1, log_interval=100)\n",
    "\n",
    "# Use CUDA if available\n",
    "use_cuda = torch.cuda.is_available()\n",
    "device = torch.device(\"cuda\" if use_cuda else \"cpu\")\n",
    "\n",
    "# Define the transformation for the dataset\n",
    "transformation = transforms.Compose([\n",
    "    transforms.ToTensor(),\n",
    "    transforms.Normalize((0.1307,), (0.3081,))\n",
    "])\n",
    "\n",
    "# Load the full FashionMNIST training and test datasets\n",
    "full_train_dataset = datasets.FashionMNIST(\n",
    "    os.path.join('.','..','data'), \n",
    "    train=True, \n",
    "    download=True, \n",
    "    transform=transformation\n",
    ")\n",
    "full_test_dataset = datasets.FashionMNIST(\n",
    "    os.path.join('.','..','data'), \n",
    "    train=False, \n",
    "    download=True, \n",
    "    transform=transformation\n",
    ")\n",
    "\n",
    "# Combine train and test datasets\n",
    "full_dataset = torch.utils.data.ConcatDataset([full_train_dataset, full_test_dataset])\n",
    "\n",
    "# Set the manual seed for reproducibility\n",
    "torch.manual_seed(args.seed)\n",
    "\n",
    "# Calculate split sizes\n",
    "total_size = len(full_dataset)\n",
    "train_size = int(0.64 * total_size)\n",
    "val_size = int(0.16 * total_size)\n",
    "test_size = total_size - train_size - val_size\n",
    "\n",
    "# Split the dataset\n",
    "train_dataset, val_test_dataset = torch.utils.data.random_split(full_dataset, [train_size, val_size + test_size])\n",
    "val_dataset, test_dataset = torch.utils.data.random_split(val_test_dataset, [val_size, test_size])\n",
    "\n",
    "# Define data loaders\n",
    "kwargs = {'num_workers': 1, 'pin_memory': True} if use_cuda else {}\n",
    "train_loader = torch.utils.data.DataLoader(train_dataset, batch_size=args.batch_size, shuffle=True, **kwargs)\n",
    "val_loader = torch.utils.data.DataLoader(val_dataset, batch_size=args.batch_size, shuffle=True, **kwargs)\n",
    "test_loader = torch.utils.data.DataLoader(test_dataset, batch_size=args.test_batch_size, shuffle=True, **kwargs)\n",
    "\n",
    "# Check proportions\n",
    "print(f'Train data is {100 * len(train_dataset) / total_size}% of the dataset')\n",
    "print(f'Val data is {100 * len(val_dataset) / total_size}% of the dataset')\n",
    "print(f'Test data is {100 * len(test_dataset) / total_size}% of the dataset')\n"
   ]
  },
  {
   "cell_type": "markdown",
   "id": "d4ba8f3b",
   "metadata": {},
   "source": [
    "# Preprocessing Data"
   ]
  },
  {
   "cell_type": "code",
   "execution_count": 8,
   "id": "77a7cae5",
   "metadata": {},
   "outputs": [
    {
     "name": "stderr",
     "output_type": "stream",
     "text": [
      "Clipping input data to the valid range for imshow with RGB data ([0..1] for floats or [0..255] for integers). Got range [0.28789353..1.9107434].\n"
     ]
    },
    {
     "data": {
      "image/png": "[encoded data removed]",
      "text/plain": [
       "<Figure size 640x480 with 1 Axes>"
      ]
     },
     "metadata": {},
     "output_type": "display_data"
    },
    {
     "name": "stdout",
     "output_type": "stream",
     "text": [
      "Labels:  [1, 8, 0, 7, 8, 6, 2, 5, 6, 2, 7, 6, 8, 1, 6, 1, 3, 4, 0, 3, 4, 8, 6, 0, 8, 0, 8, 0, 8, 5, 9, 7, 0, 4, 6, 9, 7, 3, 5, 8, 8, 2, 9, 9, 7, 8, 7, 8, 1, 2, 6, 3, 6, 3, 0, 0, 4, 5, 0, 7, 5, 4, 5, 5]\n"
     ]
    }
   ],
   "source": [
    "import matplotlib.pyplot as plt\n",
    "import torchvision\n",
    "import torchvision.transforms as transforms\n",
    "\n",
    "# Function to show an image\n",
    "def imshow(img):\n",
    "    img = img / 2 + 0.5     # unnormalize\n",
    "    npimg = img.numpy()\n",
    "    plt.imshow(np.transpose(npimg, (1, 2, 0)))\n",
    "    plt.show()\n",
    "\n",
    "# Get a batch of training images\n",
    "dataiter = iter(train_loader)\n",
    "images, labels = next(dataiter)  # Use next() to fetch the next batch\n",
    "\n",
    "# Show images\n",
    "imshow(torchvision.utils.make_grid(images))\n",
    "\n",
    "# Print labels\n",
    "print('Labels: ', labels.tolist())\n"
   ]
  },
  {
   "cell_type": "code",
   "execution_count": 9,
   "id": "d6e12c7f",
   "metadata": {},
   "outputs": [],
   "source": [
    "train_data = transform_loader(train_loader)\n",
    "val_data = transform_loader(val_loader)\n",
    "test_data = transform_loader(test_loader)"
   ]
  },
  {
   "cell_type": "markdown",
   "id": "f94c4ab9",
   "metadata": {},
   "source": [
    "## Examples"
   ]
  },
  {
   "cell_type": "code",
   "execution_count": 10,
   "id": "bcd6bd70",
   "metadata": {},
   "outputs": [
    {
     "name": "stdout",
     "output_type": "stream",
     "text": [
      "Example nr 1: \n",
      "Input: \n"
     ]
    },
    {
     "data": {
      "image/png": "[encoded data removed]",
      "text/plain": [
       "<Figure size 640x480 with 1 Axes>"
      ]
     },
     "metadata": {},
     "output_type": "display_data"
    },
    {
     "name": "stdout",
     "output_type": "stream",
     "text": [
      "Output:  [0 0 0 1 0 0 0 0 0 0 0 0 0 0 1 0 0 0 0 0 0 0 1 0] \n",
      "\n",
      "Example nr 2: \n",
      "Input: \n"
     ]
    },
    {
     "data": {
      "image/png": "[encoded data removed]",
      "text/plain": [
       "<Figure size 640x480 with 1 Axes>"
      ]
     },
     "metadata": {},
     "output_type": "display_data"
    },
    {
     "name": "stdout",
     "output_type": "stream",
     "text": [
      "Output:  [0 0 0 0 0 0 0 1 0 0 0 0 0 1 0 0 0 0 0 0 1 0 0 0] \n",
      "\n",
      "Example nr 3: \n",
      "Input: \n"
     ]
    },
    {
     "data": {
      "image/png": "[encoded data removed]",
      "text/plain": [
       "<Figure size 640x480 with 1 Axes>"
      ]
     },
     "metadata": {},
     "output_type": "display_data"
    },
    {
     "name": "stdout",
     "output_type": "stream",
     "text": [
      "Output:  [0 0 0 1 0 0 0 0 0 0 0 0 0 0 0 0 0 0 1 0 0 0 1 0] \n",
      "\n"
     ]
    }
   ],
   "source": [
    "for i in range(3):\n",
    "    img, vector = train_data[i]\n",
    "    print(f\"Example nr {i+1}: \")\n",
    "    print(\"Input: \")\n",
    "    plt.imshow(img.permute(1, 2, 0), cmap='gray')\n",
    "    plt.axis('off')\n",
    "    plt.show()\n",
    "    print(\"Output: \", vector,\"\\n\")   "
   ]
  },
  {
   "cell_type": "code",
   "execution_count": 11,
   "id": "633ef189",
   "metadata": {
    "scrolled": true
   },
   "outputs": [
    {
     "name": "stdout",
     "output_type": "stream",
     "text": [
      "Example nr 1: \n",
      "Input: \n"
     ]
    },
    {
     "data": {
      "image/png": "[encoded data removed]",
      "text/plain": [
       "<Figure size 640x480 with 1 Axes>"
      ]
     },
     "metadata": {},
     "output_type": "display_data"
    },
    {
     "name": "stdout",
     "output_type": "stream",
     "text": [
      "Output:  [0 0 0 0 0 0 0 0 0 1 1 0 0 0 0 0 0 0 0 0 0 0 1 0] \n",
      "\n",
      "Example nr 2: \n",
      "Input: \n"
     ]
    },
    {
     "data": {
      "image/png": "[encoded data removed]",
      "text/plain": [
       "<Figure size 640x480 with 1 Axes>"
      ]
     },
     "metadata": {},
     "output_type": "display_data"
    },
    {
     "name": "stdout",
     "output_type": "stream",
     "text": [
      "Output:  [0 0 0 0 0 0 0 0 1 0 0 0 0 0 1 0 0 0 0 0 0 0 1 0] \n",
      "\n",
      "Example nr 3: \n",
      "Input: \n"
     ]
    },
    {
     "data": {
      "image/png": "[encoded data removed]",
      "text/plain": [
       "<Figure size 640x480 with 1 Axes>"
      ]
     },
     "metadata": {},
     "output_type": "display_data"
    },
    {
     "name": "stdout",
     "output_type": "stream",
     "text": [
      "Output:  [0 0 0 1 0 0 0 0 0 0 0 1 0 0 0 0 0 0 0 0 0 0 1 0] \n",
      "\n",
      "Example nr 4: \n",
      "Input: \n"
     ]
    },
    {
     "data": {
      "image/png": "[encoded data removed]",
      "text/plain": [
       "<Figure size 640x480 with 1 Axes>"
      ]
     },
     "metadata": {},
     "output_type": "display_data"
    },
    {
     "name": "stdout",
     "output_type": "stream",
     "text": [
      "Output:  [1 0 0 0 0 0 0 0 0 0 0 0 0 1 0 0 0 0 0 0 0 0 0 1] \n",
      "\n",
      "Example nr 5: \n",
      "Input: \n"
     ]
    },
    {
     "data": {
      "image/png": "[encoded data removed]",
      "text/plain": [
       "<Figure size 640x480 with 1 Axes>"
      ]
     },
     "metadata": {},
     "output_type": "display_data"
    },
    {
     "name": "stdout",
     "output_type": "stream",
     "text": [
      "Output:  [0 1 0 0 0 0 0 0 0 0 0 0 0 1 0 0 0 0 0 0 0 0 1 0] \n",
      "\n"
     ]
    }
   ],
   "source": [
    "samples = create_samples_with_non_overlapping_images_and_vectors(test_loader,5)\n",
    "\n",
    "for i in range(5):\n",
    "    img, vector = samples[i]\n",
    "    print(f\"Example nr {i+1}: \")\n",
    "    print(\"Input: \")\n",
    "    plt.imshow(img.permute(1, 2, 0), cmap='gray')\n",
    "    plt.axis('off')\n",
    "    plt.show()\n",
    "    print(\"Output: \", vector,\"\\n\")    "
   ]
  },
  {
   "cell_type": "markdown",
   "id": "f06de61c",
   "metadata": {},
   "source": [
    "# THE TWO OBJECT MODEL "
   ]
  },
  {
   "cell_type": "markdown",
   "id": "9daef766",
   "metadata": {},
   "source": [
    "## Our Hiperparameters should look like this:"
   ]
  },
  {
   "cell_type": "code",
   "execution_count": 10,
   "id": "18056392",
   "metadata": {},
   "outputs": [
    {
     "name": "stdout",
     "output_type": "stream",
     "text": [
      "   Hyperparameter               Options Search\n",
      "Number of filters           32, 64, 128      H\n",
      "      Kernel size 3 x 3, 5 x 5, 11 x 11      M\n",
      "        Optimiser             Adam, SGD      H\n",
      "    Learning rate   0.01, 0.001, 0.0001      M\n",
      "         LR Decay               Yes, No      M\n",
      "       Batch size       1, 32, 64, full      M\n",
      "          Dropout    0.2, 0.3, 0.4, 0.5      M\n"
     ]
    }
   ],
   "source": [
    "# number of Filters: This determines the number of output channels in each convolutional layer (i.e., the depth of the feature maps). Common choices are 32, 64, and 128.\n",
    "# Kernel Size: The size of the filter that will convolve around the input volume. Common sizes are 3x3, 5x5, and 11x11.\n",
    "# Optimizer: This is the algorithm used to update the weights of the network. Adam and Stochastic Gradient Descent (SGD) are two commonly used optimizers.\n",
    "# Learning Rate (LR): This is a hyperparameter that controls the amount by which the weights are updated during training. Common starting values are 0.01, 0.001, and 0.0001.\n",
    "# LR Decay: Whether to use learning rate decay, which reduces the learning rate over time.\n",
    "# Batch Size: The number of training samples used in one iteration. Options here include 1 (stochastic), 32, 64, or using the full dataset (batch gradient descent).\n",
    "# Dropout: A regularization technique that involves randomly setting a fraction of input units to 0 at each update during training to prevent overfitting. Common values are 0.2, 0.3, 0.4, and 0.5.\n",
    "\n",
    "import pandas as pd\n",
    "\n",
    "# Define the hyperparameters and their corresponding options and search methods\n",
    "hyperparameters = {\n",
    "    \"Hyperparameter\": [\n",
    "        \"Number of filters\",\n",
    "        \"Kernel size\",\n",
    "        \"Optimiser\",\n",
    "        \"Learning rate\",\n",
    "        \"LR Decay\",\n",
    "        \"Batch size\",\n",
    "        \"Dropout\"\n",
    "    ],\n",
    "    \"Options\": [\n",
    "        \"32, 64, 128\",\n",
    "        \"3 x 3, 5 x 5, 11 x 11\",\n",
    "        \"Adam, SGD\",\n",
    "        \"0.01, 0.001, 0.0001\",\n",
    "        \"Yes, No\",\n",
    "        \"1, 32, 64, full\",\n",
    "        \"0.2, 0.3, 0.4, 0.5\"\n",
    "    ],\n",
    "    \"Search\": [\n",
    "        \"H\",\n",
    "        \"M\",\n",
    "        \"H\",\n",
    "        \"M\",\n",
    "        \"M\",\n",
    "        \"M\",\n",
    "        \"M\"\n",
    "    ]\n",
    "}\n",
    "\n",
    "# Create a DataFrame\n",
    "df_hyperparameters = pd.DataFrame(hyperparameters)\n",
    "\n",
    "# Print the table\n",
    "print(df_hyperparameters.to_string(index=False))\n",
    "\n"
   ]
  },
  {
   "cell_type": "code",
   "execution_count": 11,
   "id": "71e67360",
   "metadata": {},
   "outputs": [],
   "source": [
    "class SpatialRelationCNN(nn.Module):\n",
    "    def __init__(self):\n",
    "        super(SpatialRelationCNN, self).__init__()\n",
    "        # Convolutional layers\n",
    "        self.conv1 = nn.Conv2d(1, 32, kernel_size=3, padding=1)\n",
    "        self.bn1 = nn.BatchNorm2d(32)\n",
    "        self.conv2 = nn.Conv2d(32, 64, kernel_size=3, padding=1)\n",
    "        self.bn2 = nn.BatchNorm2d(64)\n",
    "\n",
    "        # Pooling layer\n",
    "        self.pool = nn.MaxPool2d(kernel_size=2, stride=2)\n",
    "\n",
    "        # Fully connected layers for processing the convolutional outputs\n",
    "        self.fc_label_a = nn.Linear(14*14*64, 64)\n",
    "        self.fc_label_b = nn.Linear(14*14*64, 64)\n",
    "\n",
    "        # Concatenate the outputs of the two branches\n",
    "        self.fc1_concatenated = nn.Linear(64 + 64, 512)\n",
    "\n",
    "        # Output layer\n",
    "        self.fc_output = nn.Linear(512, 24)  # Adjusted to match your target vector size\n",
    "\n",
    "    def forward(self, x):\n",
    "        # Apply the first set of layers\n",
    "        x = self.pool(F.relu(self.bn1(self.conv1(x))))\n",
    "        # Apply the second set of layers\n",
    "        x = self.pool(F.relu(self.bn2(self.conv2(x))))\n",
    "\n",
    "        # Flatten the convolutional layer outputs\n",
    "        x_flattened = x.view(x.size(0), -1)\n",
    "\n",
    "        # Apply the fully connected layers to each branch\n",
    "        label_a_out = F.relu(self.fc_label_a(x_flattened))\n",
    "        label_b_out = F.relu(self.fc_label_b(x_flattened))\n",
    "\n",
    "        # Concatenate the outputs\n",
    "        concatenated = torch.cat((label_a_out, label_b_out), dim=1)\n",
    "\n",
    "        # Apply the last fully connected layers\n",
    "        concatenated = F.relu(self.fc1_concatenated(concatenated))\n",
    "        x_output = self.fc_output(concatenated)\n",
    "        \n",
    "        return x_output"
   ]
  },
  {
   "cell_type": "markdown",
   "id": "9d510e77",
   "metadata": {},
   "source": [
    "### RNA"
   ]
  },
  {
   "cell_type": "code",
   "execution_count": 12,
   "id": "d9aacc59",
   "metadata": {},
   "outputs": [],
   "source": [
    "class ControllerNetwork(nn.Module):\n",
    "    def __init__(self):\n",
    "        super(ControllerNetwork, self).__init__()\n",
    "        self.fc1 = nn.Linear(24 + 24, 128)  # Taking the prediction and adaptation signal as input\n",
    "        self.fc2 = nn.Linear(128, 64)\n",
    "        self.fc3 = nn.Linear(64, 24) \n",
    "\n",
    "    def forward(self, prediction, adaptation_signal):\n",
    "        if adaptation_signal.dim() == 1:\n",
    "            adaptation_signal = adaptation_signal.unsqueeze(1)\n",
    "        x = torch.cat((prediction, adaptation_signal), dim=1)\n",
    "        x = F.relu(self.fc1(x))\n",
    "        x = F.relu(self.fc2(x))\n",
    "        x = self.fc3(x)\n",
    "        return x\n",
    "\n",
    "class AdaptableSpatialRelationCNN(nn.Module):\n",
    "    def __init__(self):\n",
    "        super(AdaptableSpatialRelationCNN, self).__init__()\n",
    "        self.main_network = SpatialRelationCNN()\n",
    "        self.controller_network = ControllerNetwork()\n",
    "\n",
    "    def forward(self, x, adaptation_signal):\n",
    "        prediction = self.main_network(x)\n",
    "        adjustment = self.controller_network(prediction, adaptation_signal)\n",
    "        adjusted_prediction = prediction + adjustment \n",
    "        return adjusted_prediction\n"
   ]
  },
  {
   "cell_type": "markdown",
   "id": "e9043f14",
   "metadata": {},
   "source": [
    "rna + szumy"
   ]
  },
  {
   "cell_type": "code",
   "execution_count": 42,
   "id": "728db0f7",
   "metadata": {},
   "outputs": [],
   "source": [
    "def add_uniform_noise(images, noise_level=0.1, num_noisy_pixels=500):\n",
    "    noisy_images = images.clone()\n",
    "    for img in noisy_images:\n",
    "        c, h, w = img.shape\n",
    "        total_pixels = h * w\n",
    "        random_indices = torch.randperm(total_pixels)[:num_noisy_pixels]\n",
    "        noise = torch.rand(num_noisy_pixels) * noise_level\n",
    "        img.view(-1)[random_indices] += noise\n",
    "    return noisy_images.clamp(0, 1)"
   ]
  },
  {
   "cell_type": "code",
   "execution_count": 14,
   "id": "ecc4bbad",
   "metadata": {},
   "outputs": [
    {
     "name": "stdout",
     "output_type": "stream",
     "text": [
      "Epoch 1/50, Loss: 0.00450605084155021\n",
      "Epoch 2/50, Loss: 0.0028599409806442312\n",
      "Epoch 3/50, Loss: 0.0020675173049676233\n",
      "Epoch 4/50, Loss: 0.0014569866355408781\n",
      "Epoch 5/50, Loss: 0.0009704165392031427\n",
      "Epoch 6/50, Loss: 0.0006389120968170963\n",
      "Epoch 7/50, Loss: 0.0004620699474045458\n",
      "Epoch 8/50, Loss: 0.0003427766762589662\n",
      "Epoch 9/50, Loss: 0.0002817886042586386\n",
      "Epoch 10/50, Loss: 0.0002389215020333982\n",
      "Epoch 11/50, Loss: 0.00021531025554915166\n",
      "Epoch 12/50, Loss: 0.00019820709943295308\n",
      "Epoch 13/50, Loss: 0.00019855771355845977\n",
      "Epoch 14/50, Loss: 0.00015975279070809328\n",
      "Epoch 15/50, Loss: 0.00014096524072848687\n",
      "Epoch 16/50, Loss: 0.0001716865031861354\n",
      "Epoch 17/50, Loss: 0.0001271438028389379\n",
      "Epoch 18/50, Loss: 0.00013805206567099048\n",
      "Epoch 19/50, Loss: 0.00011286793635735292\n",
      "Epoch 20/50, Loss: 0.00012281514397370432\n",
      "Epoch 21/50, Loss: 0.0001204853944417599\n",
      "Epoch 22/50, Loss: 0.00011005036304587585\n",
      "Epoch 23/50, Loss: 0.00010955813966380187\n",
      "Epoch 24/50, Loss: 9.529001137727684e-05\n",
      "Epoch 25/50, Loss: 0.00010991072157350702\n",
      "Epoch 26/50, Loss: 7.935225582973056e-05\n",
      "Epoch 27/50, Loss: 0.00010312805656180249\n",
      "Epoch 28/50, Loss: 7.329490961276568e-05\n",
      "Epoch 29/50, Loss: 8.736021570777146e-05\n",
      "Epoch 30/50, Loss: 8.594509630658616e-05\n",
      "Epoch 31/50, Loss: 8.560928102667731e-05\n",
      "Epoch 32/50, Loss: 7.485160075276553e-05\n",
      "Epoch 33/50, Loss: 7.555106668576173e-05\n",
      "Epoch 34/50, Loss: 7.13117453156948e-05\n",
      "Epoch 35/50, Loss: 8.191602556224658e-05\n",
      "Epoch 36/50, Loss: 6.544044159780477e-05\n",
      "Epoch 37/50, Loss: 7.719373499720105e-05\n",
      "Epoch 38/50, Loss: 6.220172395073982e-05\n",
      "Epoch 39/50, Loss: 6.29122971196188e-05\n",
      "Epoch 40/50, Loss: 6.101537082335946e-05\n",
      "Epoch 41/50, Loss: 7.041189962784245e-05\n",
      "Epoch 42/50, Loss: 5.758391923500282e-05\n",
      "Epoch 43/50, Loss: 6.0408235251695635e-05\n",
      "Epoch 44/50, Loss: 6.293318619936982e-05\n",
      "Epoch 45/50, Loss: 6.580591114440791e-05\n",
      "Epoch 46/50, Loss: 5.175310085346853e-05\n",
      "Epoch 47/50, Loss: 6.046027671034793e-05\n",
      "Epoch 48/50, Loss: 5.6375373686193034e-05\n",
      "Epoch 49/50, Loss: 5.248478462347756e-05\n",
      "Epoch 50/50, Loss: 5.5497699881813997e-05\n"
     ]
    }
   ],
   "source": [
    "from torch.distributions import Categorical\n",
    "\n",
    "def calculate_entropy(probs):\n",
    "    dist = Categorical(probs)\n",
    "    entropy = dist.entropy()\n",
    "    return entropy\n",
    "\n",
    "device = torch.device('cuda' if torch.cuda.is_available() else 'cpu')\n",
    "model = AdaptableSpatialRelationCNN().to(device)\n",
    "criterion = nn.BCEWithLogitsLoss()\n",
    "optimizer = torch.optim.Adam(model.parameters(), lr=0.001)\n",
    "\n",
    "train_images = torch.stack([item[0] for item in train_data])\n",
    "# train_images = add_uniform_noise(train_images)\n",
    "train_vectors = torch.stack([torch.tensor(item[1]) for item in train_data])\n",
    "\n",
    "batch_size = 64\n",
    "num_epochs = 50\n",
    "\n",
    "for epoch in range(num_epochs):\n",
    "    model.train()\n",
    "    total_loss = 0\n",
    "    adaptation_signals = []\n",
    "\n",
    "    for inputs, labels in DataLoader(TensorDataset(train_images, train_vectors), batch_size=batch_size, shuffle=True):\n",
    "        inputs, labels = inputs.to(device), labels.to(device)\n",
    "        optimizer.zero_grad()\n",
    "        outputs = model.main_network(inputs)\n",
    "        loss = criterion(outputs, labels.float())\n",
    "        loss.backward()\n",
    "        optimizer.step()\n",
    "        total_loss += loss.item()\n",
    "\n",
    "        probs = torch.sigmoid(outputs).detach().cpu()\n",
    "        entropy = calculate_entropy(probs)\n",
    "        adaptation_signals.append(entropy)\n",
    "\n",
    "    adaptation_signals = torch.cat(adaptation_signals).to(device)\n",
    "    adaptation_signals = adaptation_signals.unsqueeze(1).repeat(1, 24)\n",
    "    train_dataset = TensorDataset(train_images, train_vectors, adaptation_signals)\n",
    "    train_loader = DataLoader(train_dataset, batch_size=batch_size, shuffle=True)\n",
    "\n",
    "    for inputs, labels, adaptation_signal in train_loader:\n",
    "        inputs, labels, adaptation_signal = inputs.to(device), labels.to(device), adaptation_signal.to(device)\n",
    "        optimizer.zero_grad()\n",
    "        outputs = model(inputs, adaptation_signal)\n",
    "        loss = criterion(outputs, labels.float())\n",
    "        loss.backward()\n",
    "        optimizer.step()\n",
    "        total_loss += loss.item()\n",
    "    \n",
    "    print(f'Epoch {epoch+1}/{num_epochs}, Loss: {total_loss / len(train_data)}')\n",
    "\n",
    "model_path = 'adaptable_spatial_relation_cnn.pth'\n",
    "torch.save(model.state_dict(), model_path)"
   ]
  },
  {
   "cell_type": "code",
   "execution_count": 43,
   "id": "13110f6e",
   "metadata": {},
   "outputs": [
    {
     "data": {
      "text/plain": [
       "<All keys matched successfully>"
      ]
     },
     "execution_count": 43,
     "metadata": {},
     "output_type": "execute_result"
    }
   ],
   "source": [
    "# wystarczy załadować już gotowy model\n",
    "device = torch.device('cuda' if torch.cuda.is_available() else 'cpu')\n",
    "model = AdaptableSpatialRelationCNN().to(device)\n",
    "model.load_state_dict(torch.load('adaptable_spatial_relation_cnn.pth'))"
   ]
  },
  {
   "cell_type": "code",
   "execution_count": 44,
   "id": "b7e78145",
   "metadata": {},
   "outputs": [],
   "source": [
    "def calculate_accuracy(model, test_loader, device):\n",
    "    model.eval()  \n",
    "    correct = 0\n",
    "    total = 0\n",
    "\n",
    "    with torch.no_grad():\n",
    "        for inputs, labels in test_loader:\n",
    "            inputs, labels = inputs.to(device), labels.to(device)\n",
    "\n",
    "            outputs = model.main_network(inputs)\n",
    "            probs = torch.sigmoid(outputs).cpu()\n",
    "            entropy = calculate_entropy(probs).unsqueeze(1).repeat(1, 24).to(device)\n",
    "\n",
    "            adjusted_outputs = model(inputs, entropy)\n",
    "            predicted = (torch.sigmoid(adjusted_outputs) > 0.5).float()\n",
    "            correct += (predicted == labels).all(dim=1).sum().item()\n",
    "            total += labels.size(0)\n",
    "\n",
    "    \n",
    "    accuracy = correct / total\n",
    "    return accuracy"
   ]
  },
  {
   "cell_type": "code",
   "execution_count": 49,
   "id": "a52112c7",
   "metadata": {},
   "outputs": [
    {
     "name": "stdout",
     "output_type": "stream",
     "text": [
      "Accuracy on the test set: 0.5185\n"
     ]
    }
   ],
   "source": [
    "test_images = torch.stack([item[0] for item in test_data])\n",
    "test_vectors = torch.stack([torch.tensor(item[1]) for item in test_data])\n",
    "test_images = add_uniform_noise(test_images)  # Dodawanie szumów do obrazów testowych\n",
    "\n",
    "test_dataset = TensorDataset(test_images, test_vectors)\n",
    "test_loader = DataLoader(test_dataset, batch_size=batch_size, shuffle=False)\n",
    "\n",
    "accuracy = calculate_accuracy(model, test_loader, device)\n",
    "print(f'Accuracy on the test set: {accuracy:.4f}')\n"
   ]
  },
  {
   "cell_type": "code",
   "execution_count": 50,
   "id": "a7150095",
   "metadata": {},
   "outputs": [
    {
     "name": "stdout",
     "output_type": "stream",
     "text": [
      "Accuracy on the validation set: 0.5019\n"
     ]
    }
   ],
   "source": [
    "val_images = torch.stack([item[0] for item in val_data])\n",
    "val_vectors = torch.stack([torch.tensor(item[1]) for item in val_data])\n",
    "val_images = add_uniform_noise(val_images)  # Dodawanie szumów do obrazów testowych\n",
    "\n",
    "val_dataset = TensorDataset(val_images, val_vectors)\n",
    "val_loader = DataLoader(val_dataset, batch_size=batch_size, shuffle=False)\n",
    "\n",
    "accuracy = calculate_accuracy(model, val_loader, device)\n",
    "print(f'Accuracy on the validation set: {accuracy:.4f}')"
   ]
  },
  {
   "cell_type": "markdown",
   "id": "af8c50d7",
   "metadata": {},
   "source": [
    "koniec rna + szumy"
   ]
  },
  {
   "cell_type": "markdown",
   "id": "d16183df",
   "metadata": {},
   "source": [
    "rna + zwykłe obrazki "
   ]
  },
  {
   "cell_type": "code",
   "execution_count": 47,
   "id": "071e75ba",
   "metadata": {},
   "outputs": [
    {
     "name": "stdout",
     "output_type": "stream",
     "text": [
      "Accuracy on the test set: 0.5609\n"
     ]
    }
   ],
   "source": [
    "test_images = torch.stack([item[0] for item in test_data])\n",
    "test_vectors = torch.stack([torch.tensor(item[1]) for item in test_data])\n",
    "\n",
    "test_dataset = TensorDataset(test_images, test_vectors)\n",
    "test_loader = DataLoader(test_dataset, batch_size=batch_size, shuffle=False)\n",
    "\n",
    "accuracy = calculate_accuracy(model, test_loader, device)\n",
    "print(f'Accuracy on the test set: {accuracy:.4f}')"
   ]
  },
  {
   "cell_type": "code",
   "execution_count": 48,
   "id": "fe969ea2",
   "metadata": {},
   "outputs": [
    {
     "name": "stdout",
     "output_type": "stream",
     "text": [
      "Accuracy on the test set: 0.5483\n"
     ]
    }
   ],
   "source": [
    "val_images = torch.stack([item[0] for item in val_data])\n",
    "val_vectors = torch.stack([torch.tensor(item[1]) for item in val_data])\n",
    "\n",
    "val_dataset = TensorDataset(val_images, val_vectors)\n",
    "val_loader = DataLoader(val_dataset, batch_size=batch_size, shuffle=False)\n",
    "\n",
    "accuracy = calculate_accuracy(model, val_loader, device)\n",
    "print(f'Accuracy on the test set: {accuracy:.4f}')"
   ]
  },
  {
   "cell_type": "markdown",
   "id": "a8e9e9e2",
   "metadata": {},
   "source": [
    "koniec rna + zwykłe obrazki "
   ]
  },
  {
   "cell_type": "markdown",
   "id": "e10422d4",
   "metadata": {},
   "source": [
    "rna + różnie skalowane obrazki"
   ]
  },
  {
   "cell_type": "markdown",
   "id": "09978fef",
   "metadata": {},
   "source": [
    "koniec rna + różnie skalowane obrazki"
   ]
  },
  {
   "cell_type": "markdown",
   "id": "6593f93b",
   "metadata": {},
   "source": [
    "KONIEC RNA"
   ]
  },
  {
   "cell_type": "code",
   "execution_count": 51,
   "id": "fc31a1fb",
   "metadata": {},
   "outputs": [],
   "source": [
    "model = SpatialRelationCNN().to(device)  # Make sure to move the model to the device (CPU or GPU)\n"
   ]
  },
  {
   "cell_type": "code",
   "execution_count": 52,
   "id": "17e187b9",
   "metadata": {},
   "outputs": [],
   "source": [
    "criterion = nn.BCEWithLogitsLoss()  # Since it's a multi-label classification problem\n",
    "optimizer = torch.optim.Adam(model.parameters(), lr=0.001)  # Feel free to adjust the learning rate\n"
   ]
  },
  {
   "cell_type": "markdown",
   "id": "46cefcc7",
   "metadata": {},
   "source": [
    "zwykly model trening"
   ]
  },
  {
   "cell_type": "code",
   "execution_count": 31,
   "id": "31e77970",
   "metadata": {},
   "outputs": [
    {
     "name": "stdout",
     "output_type": "stream",
     "text": [
      "Epoch 1/50, Loss: 0.002692505086140175\n",
      "Epoch 2/50, Loss: 0.0018478590128610708\n",
      "Epoch 3/50, Loss: 0.0015547396227650876\n",
      "Epoch 4/50, Loss: 0.0013275808954910774\n",
      "Epoch 5/50, Loss: 0.0011346887984213286\n",
      "Epoch 6/50, Loss: 0.0009734100795217923\n",
      "Epoch 7/50, Loss: 0.0008250829258135387\n",
      "Epoch 8/50, Loss: 0.0006737586034744579\n",
      "Epoch 9/50, Loss: 0.0005499725514839936\n",
      "Epoch 10/50, Loss: 0.00045344307114386797\n",
      "Epoch 11/50, Loss: 0.0003594472237455193\n",
      "Epoch 12/50, Loss: 0.00029414040541658846\n",
      "Epoch 13/50, Loss: 0.00023593420083281152\n",
      "Epoch 14/50, Loss: 0.00020089200428109117\n",
      "Epoch 15/50, Loss: 0.00018691282925699073\n",
      "Epoch 16/50, Loss: 0.0001595622048522013\n",
      "Epoch 17/50, Loss: 0.00015269530557686397\n",
      "Epoch 18/50, Loss: 0.0001360826189323104\n",
      "Epoch 19/50, Loss: 0.00012219301785080462\n",
      "Epoch 20/50, Loss: 0.00011367200693582293\n",
      "Epoch 21/50, Loss: 0.0001002096571418016\n",
      "Epoch 22/50, Loss: 0.00010270551795916357\n",
      "Epoch 23/50, Loss: 9.885060960966387e-05\n",
      "Epoch 24/50, Loss: 9.22633556872045e-05\n",
      "Epoch 25/50, Loss: 7.693345960173506e-05\n",
      "Epoch 26/50, Loss: 9.544383452488806e-05\n",
      "Epoch 27/50, Loss: 7.894420381392462e-05\n",
      "Epoch 28/50, Loss: 8.398745094122465e-05\n",
      "Epoch 29/50, Loss: 8.977807045734412e-05\n",
      "Epoch 30/50, Loss: 6.801787185525297e-05\n",
      "Epoch 31/50, Loss: 6.72997174063182e-05\n",
      "Epoch 32/50, Loss: 5.678706769117525e-05\n",
      "Epoch 33/50, Loss: 6.820744608051297e-05\n",
      "Epoch 34/50, Loss: 7.891142962193954e-05\n",
      "Epoch 35/50, Loss: 5.607686476959576e-05\n",
      "Epoch 36/50, Loss: 6.609144200443292e-05\n",
      "Epoch 37/50, Loss: 6.27931656751051e-05\n",
      "Epoch 38/50, Loss: 5.176489680950778e-05\n",
      "Epoch 39/50, Loss: 6.360140721897422e-05\n",
      "Epoch 40/50, Loss: 6.717424708418614e-05\n",
      "Epoch 41/50, Loss: 6.445100856621723e-05\n",
      "Epoch 42/50, Loss: 4.589975402410573e-05\n",
      "Epoch 43/50, Loss: 4.2860297660679084e-05\n",
      "Epoch 44/50, Loss: 6.0152770504779645e-05\n",
      "Epoch 45/50, Loss: 4.4186960478295334e-05\n",
      "Epoch 46/50, Loss: 4.1335228125457696e-05\n",
      "Epoch 47/50, Loss: 6.854676122242966e-05\n",
      "Epoch 48/50, Loss: 4.238470478745577e-05\n",
      "Epoch 49/50, Loss: 2.411469054257915e-05\n",
      "Epoch 50/50, Loss: 6.418275465388692e-05\n"
     ]
    }
   ],
   "source": [
    "train_images = torch.stack([item[0] for item in train_data])  # Stacks all images into a single tensor\n",
    "train_vectors = torch.stack([torch.tensor(item[1]) for item in train_data])  # Stacks all vectors into a single tensor\n",
    "\n",
    "# Create a TensorDataset\n",
    "train_dataset = TensorDataset(train_images, train_vectors)\n",
    "\n",
    "# Use DataLoader to create iterable over the dataset with specified batch size\n",
    "batch_size = 64\n",
    "train_loader = DataLoader(train_dataset, batch_size=batch_size, shuffle=True)\n",
    "\n",
    "num_epochs = 50  # You can adjust this\n",
    "\n",
    "for epoch in range(num_epochs):\n",
    "    model.train()  # Set the model to training mode\n",
    "    total_loss = 0\n",
    "    for inputs, labels in train_loader:  # Assuming train_data is a DataLoader\n",
    "        inputs, labels = inputs.to(device), labels.to(device)\n",
    "        optimizer.zero_grad()\n",
    "        outputs = model(inputs)\n",
    "        loss = criterion(outputs, labels.float())\n",
    "        loss.backward()\n",
    "        optimizer.step()\n",
    "        total_loss += loss.item()\n",
    "    print(f'Epoch {epoch+1}/{num_epochs}, Loss: {total_loss / len(train_data)}')\n",
    "model_path = 'normal_cnn.pth'\n",
    "torch.save(model.state_dict(), model_path)\n"
   ]
  },
  {
   "cell_type": "code",
   "execution_count": 41,
   "id": "0cd62c62",
   "metadata": {},
   "outputs": [
    {
     "data": {
      "image/png": "[encoded data removed]",
      "text/plain": [
       "<Figure size 640x480 with 1 Axes>"
      ]
     },
     "metadata": {},
     "output_type": "display_data"
    },
    {
     "name": "stdout",
     "output_type": "stream",
     "text": [
      "True Vector:  [0 0 1 0 0 0 0 0 0 0 0 0 0 0 0 0 0 0 0 1 0 0 1 0]\n",
      "Predicted Vector:  [0. 0. 1. 0. 0. 0. 0. 0. 0. 0. 0. 0. 0. 0. 0. 0. 0. 0. 0. 1. 0. 0. 1. 0.]\n"
     ]
    }
   ],
   "source": [
    "\n",
    "\n",
    "# Function to predict labels for a single image\n",
    "def predict_image(model, image_tensor, threshold=0.5):\n",
    "    # Move image to the same device as the model\n",
    "    image_tensor = image_tensor.to(device)\n",
    "    \n",
    "    # Forward pass to get output\n",
    "    model.eval()\n",
    "    with torch.no_grad():\n",
    "        predictions = model(image_tensor)\n",
    "    \n",
    "    # Apply sigmoid since the output layer is linear\n",
    "    predictions = torch.sigmoid(predictions)\n",
    "    \n",
    "    # Apply threshold to each predicted label score\n",
    "    predicted_labels = (predictions > threshold).float()\n",
    "    return predicted_labels\n",
    "\n",
    "# Function to visualize predictions along with images\n",
    "def visualize_prediction(model, data, index, threshold=0.5):\n",
    "    image, true_vector = data[index]\n",
    "    predicted_vector = predict_image(model, image.unsqueeze(0), threshold)\n",
    "    \n",
    "    # Show image\n",
    "    plt.imshow(image.squeeze(), cmap='gray')\n",
    "    plt.axis('off')\n",
    "    plt.show()\n",
    "    \n",
    "    # Print true and predicted labels\n",
    "    print(\"True Vector: \", true_vector.numpy())\n",
    "    print(\"Predicted Vector: \", predicted_vector.cpu().numpy()[0])\n",
    "\n",
    "# Example usage:\n",
    "visualize_prediction(model, test_dataset, index=0)  # Replace index with any index from your test dataset\n"
   ]
  },
  {
   "cell_type": "markdown",
   "id": "b4ac9f3c",
   "metadata": {},
   "source": [
    "accuracy zwykłego modelu w porównaniu do rna - zignoruj to co powyżej"
   ]
  },
  {
   "cell_type": "code",
   "execution_count": 53,
   "id": "daea19d5",
   "metadata": {},
   "outputs": [
    {
     "data": {
      "text/plain": [
       "<All keys matched successfully>"
      ]
     },
     "execution_count": 53,
     "metadata": {},
     "output_type": "execute_result"
    }
   ],
   "source": [
    "# wystarczy załadować już gotowy model\n",
    "device = torch.device('cuda' if torch.cuda.is_available() else 'cpu')\n",
    "model = SpatialRelationCNN().to(device)\n",
    "model.load_state_dict(torch.load('normal_cnn.pth'))"
   ]
  },
  {
   "cell_type": "code",
   "execution_count": 54,
   "id": "0e61bb46",
   "metadata": {},
   "outputs": [],
   "source": [
    "# Function to calculate the accuracy of the model\n",
    "def calculate_accuracy(model, loader):\n",
    "    correct = 0\n",
    "    total = 0\n",
    "    \n",
    "    model.eval()\n",
    "    with torch.no_grad():\n",
    "        for images, labels in loader:\n",
    "            images, labels = images.to(device), labels.to(device)\n",
    "            outputs = model(images)\n",
    "            predictions = torch.sigmoid(outputs) > 0.5\n",
    "            correct += (predictions == labels).all(dim=1).sum().item()\n",
    "            total += labels.size(0)\n",
    "    \n",
    "    accuracy = correct / total\n",
    "    return accuracy"
   ]
  },
  {
   "cell_type": "markdown",
   "id": "ec06ae4e",
   "metadata": {},
   "source": [
    "zwykly + szumy"
   ]
  },
  {
   "cell_type": "code",
   "execution_count": 55,
   "id": "f11c457f",
   "metadata": {},
   "outputs": [
    {
     "name": "stdout",
     "output_type": "stream",
     "text": [
      "Accuracy on the test set: 0.4892\n"
     ]
    }
   ],
   "source": [
    "test_images = torch.stack([item[0] for item in test_data])\n",
    "test_vectors = torch.stack([torch.tensor(item[1]) for item in test_data])\n",
    "test_images = add_uniform_noise(test_images)  # Dodawanie szumów do obrazów testowych\n",
    "\n",
    "test_dataset = TensorDataset(test_images, test_vectors)\n",
    "test_loader = DataLoader(test_dataset, batch_size=batch_size, shuffle=False)\n",
    "\n",
    "accuracy = calculate_accuracy(model, test_loader)\n",
    "print(f'Accuracy on the test set: {accuracy:.4f}')"
   ]
  },
  {
   "cell_type": "code",
   "execution_count": 56,
   "id": "263797ce",
   "metadata": {},
   "outputs": [
    {
     "name": "stdout",
     "output_type": "stream",
     "text": [
      "Accuracy on the validation set: 0.4815\n"
     ]
    }
   ],
   "source": [
    "val_images = torch.stack([item[0] for item in val_data])\n",
    "val_vectors = torch.stack([torch.tensor(item[1]) for item in val_data])\n",
    "val_images = add_uniform_noise(val_images)  # Dodawanie szumów do obrazów testowych\n",
    "\n",
    "val_dataset = TensorDataset(val_images, val_vectors)\n",
    "val_loader = DataLoader(val_dataset, batch_size=batch_size, shuffle=False)\n",
    "\n",
    "accuracy = calculate_accuracy(model, val_loader)\n",
    "print(f'Accuracy on the validation set: {accuracy:.4f}')"
   ]
  },
  {
   "cell_type": "markdown",
   "id": "3d89bc17",
   "metadata": {},
   "source": [
    "koniec zwykly + szumy"
   ]
  },
  {
   "cell_type": "markdown",
   "id": "ba51aecb",
   "metadata": {},
   "source": [
    "zwykly bez szumów"
   ]
  },
  {
   "cell_type": "code",
   "execution_count": 57,
   "id": "33175570",
   "metadata": {},
   "outputs": [
    {
     "name": "stdout",
     "output_type": "stream",
     "text": [
      "Exact Match Test Accuracy: 0.4892\n"
     ]
    }
   ],
   "source": [
    "# Calculate and print accuracy for the test set\n",
    "test_accuracy = calculate_accuracy(model, test_loader)\n",
    "print(f'Exact Match Test Accuracy: {test_accuracy:.4f}')"
   ]
  },
  {
   "cell_type": "code",
   "execution_count": 58,
   "id": "04dd2d90",
   "metadata": {},
   "outputs": [
    {
     "name": "stdout",
     "output_type": "stream",
     "text": [
      "Exact Match Validation Accuracy: 0.4815\n"
     ]
    }
   ],
   "source": [
    "# Calculate and print accuracy for the test set\n",
    "val_accuracy = calculate_accuracy(model, val_loader)\n",
    "print(f'Exact Match Validation Accuracy: {val_accuracy:.4f}')"
   ]
  },
  {
   "cell_type": "markdown",
   "id": "1cdfc014",
   "metadata": {},
   "source": [
    "koniec zwykly bez szumów"
   ]
  }
 ],
 "metadata": {
  "kernelspec": {
   "display_name": "Python 3 (ipykernel)",
   "language": "python",
   "name": "python3"
  },
  "language_info": {
   "codemirror_mode": {
    "name": "ipython",
    "version": 3
   },
   "file_extension": ".py",
   "mimetype": "text/x-python",
   "name": "python",
   "nbconvert_exporter": "python",
   "pygments_lexer": "ipython3",
   "version": "3.11.9"
  }
 },
 "nbformat": 4,
 "nbformat_minor": 5
}
