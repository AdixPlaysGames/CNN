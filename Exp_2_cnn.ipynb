{
 "cells": [
  {
   "cell_type": "code",
   "execution_count": 2,
   "metadata": {},
   "outputs": [],
   "source": [
    "import os\n",
    "import pickle\n",
    "import torch\n",
    "import matplotlib.pyplot as plt\n",
    "from PIL import Image\n",
    "import torchvision.transforms as transforms\n",
    "output_dir = 'output_samples'\n",
    "import torch.optim as optim\n",
    "import torch\n",
    "import torch.nn as nn\n",
    "import torch.nn.functional as F\n",
    "import torch.optim as optim\n",
    "from copy import deepcopy\n",
    "from torch.optim.lr_scheduler import ExponentialLR\n",
    "from torch.utils.data import DataLoader, TensorDataset\n",
    "from sklearn.metrics import precision_recall_fscore_support"
   ]
  },
  {
   "cell_type": "code",
   "execution_count": 22,
   "metadata": {},
   "outputs": [],
   "source": [
    "def load_samples(output_dir='output_samples'):\n",
    "    '''\n",
    "       Parameters:\n",
    "            output_dir (str): Ścieżka do katalogu, gdzie zapisane są próbki, domyślnie 'output_samples'.\n",
    "\n",
    "        Returns:\n",
    "            samples (list): Lista próbek, gdzie każda próbka jest krotką zawierającą:\n",
    "                - img (Tensor): obraz w formie tensora PyTorch.\n",
    "                - label_1 (list): lista etykiet \n",
    "                - label_2 (list): lista etykiet \n",
    "                - spatial_relation (str): relacja przestrzenna pomiędzy elementami na obrazie\n",
    "\n",
    "        Każdy podkatalog w output_dir reprezentuje jedną próbkę i musi zawierać:\n",
    "            - image.png (opcjonalne): obraz w formacie PNG (służy tylko do weryfikacji).\n",
    "            - data.pkl: zawiera etykiety i relacje (label_1, label_2, spatial_relation).\n",
    "            - tensor.pth: zawiera obraz w formacie tensora\n",
    "\n",
    "        Funkcja przechodzi przez każdy katalog próbki, ładuje tensor obrazu oraz deserializuje dane z pliku pickle do odpowiednich zmiennych, a następnie dodaje je do listy próbek, którą zwraca.\n",
    "        '''\n",
    "    \n",
    "    samples = []\n",
    "\n",
    "    for i in range(1, len(os.listdir(output_dir)) + 1):\n",
    "        sample_dir = os.path.join(output_dir, f'sample_{i}')\n",
    "        \n",
    "        # img_path = os.path.join(sample_dir, 'image.png')\n",
    "        data_path = os.path.join(sample_dir, 'data.pkl')\n",
    "        tensor_path = os.path.join(sample_dir, 'tensor.pth')\n",
    "\n",
    "        # ładowanie obrazu - zakomentowane, bo jest tylko do przejrzenia jakie mnije więcej obrazy mamy\n",
    "        # img = Image.open(img_path)\n",
    "        img = torch.load(tensor_path)\n",
    "\n",
    "\n",
    "        with open(data_path, 'rb') as file:\n",
    "            data = pickle.load(file)\n",
    "            label_1 = data['label_1']\n",
    "            label_2 = data['label_2']\n",
    "            spatial_relation = data['spatial_relation']\n",
    "\n",
    "        samples.append((img, label_1, label_2, spatial_relation))\n",
    "\n",
    "    return samples"
   ]
  },
  {
   "cell_type": "code",
   "execution_count": 23,
   "metadata": {},
   "outputs": [
    {
     "name": "stdout",
     "output_type": "stream",
     "text": [
      "Label 1: [0, 1, 0, 0, 0, 0, 0, 0, 0, 0], Label 2: [0, 0, 1, 0, 0, 0, 0, 0, 0, 0], Spatial Relation: below left\n"
     ]
    },
    {
     "data": {
      "image/png": "[encoded data removed]",
      "text/plain": [
       "<Figure size 640x480 with 1 Axes>"
      ]
     },
     "metadata": {},
     "output_type": "display_data"
    },
    {
     "name": "stdout",
     "output_type": "stream",
     "text": [
      "Label 1: [0, 0, 0, 0, 0, 0, 0, 0, 0, 1], Label 2: [0, 0, 1, 0, 0, 0, 0, 0, 0, 0], Spatial Relation: above right\n"
     ]
    },
    {
     "data": {
      "image/png": "[encoded data removed]",
      "text/plain": [
       "<Figure size 640x480 with 1 Axes>"
      ]
     },
     "metadata": {},
     "output_type": "display_data"
    }
   ],
   "source": [
    "loaded_samples = load_samples(output_dir)\n",
    "for img, label_1, label_2, spatial_relation in loaded_samples[:2]:\n",
    "    print(f'Label 1: {label_1}, Label 2: {label_2}, Spatial Relation: {spatial_relation}')\n",
    "    plt.imshow(img.permute(1, 2, 0), cmap='gray')\n",
    "    plt.axis('off')\n",
    "    plt.show()"
   ]
  },
  {
   "cell_type": "markdown",
   "metadata": {},
   "source": [
    "model 2 for identifying relations between 2 objects with three present objects in an image"
   ]
  },
  {
   "cell_type": "code",
   "execution_count": 24,
   "metadata": {},
   "outputs": [],
   "source": [
    "class ThreeObjectCNN(nn.Module):\n",
    "    def __init__(self):\n",
    "        super(ThreeObjectCNN, self).__init__()\n",
    "        # Krok 1: warstwa konwolucyjna 3x3 z 32 cechami wyjściowymi\n",
    "        self.conv1 = nn.Conv2d(1, 32, kernel_size=3, stride=1, padding=1)\n",
    "        # Krok 1: normalizacja dla 1 warstwy konwolucyjnej\n",
    "        self.batch_norm1 = nn.BatchNorm2d(32)\n",
    "        # Krok 1: warstwa Max Pooling z oknem 2x2\n",
    "        self.pool = nn.MaxPool2d(kernel_size=2, stride=2, padding=0)\n",
    "\n",
    "        # Krok 2: warstwa konwolucyjna 3x3 z 64 cechami wyjściowymi \n",
    "        self.conv2 = nn.Conv2d(32, 64, kernel_size=3, stride=1, padding=1)\n",
    "        # Krok 2: normalizacja dla 2 warstwy konwolucyjnej\n",
    "        self.batch_norm2 = nn.BatchNorm2d(64)\n",
    "        # Krok 2: pooling użyjemy ten sam co w kroku 1\n",
    "\n",
    "        # Krok 3: warstwy fully connected\n",
    "        self.fc_label1 = nn.Linear(10, 64)\n",
    "        self.fc_label2 = nn.Linear(10, 64)\n",
    "\n",
    "        # Krok 5: warstwa fully connected\n",
    "        '''\n",
    "        Jeśli rozmiar wejściowego obrazu to 56x56, \n",
    "        a każda operacja pooling zmniejsza wymiary o połowę, \n",
    "        to po dwóch takich operacjach otrzymamy mapę cech \n",
    "        o rozmiarze 14x14 (56 -> 28 po pierwszym pooling, a następnie 28 -> 14 po drugim pooling).\n",
    "        Warstwa konwolucyjna (self.conv2) produkuje 64 cechy wyjściowe,\n",
    "        więc po spłaszczeniu otrzymujemy tensor o rozmiarze 64 * 14 * 14\n",
    "        Dodatkowo, dodajemy 2 * 64 cech odpowiadających dwóm wektorom z etykiet obiektów, stąd + 64 + 64 w obliczeniach\n",
    "        Zatem w pełni połączona warstwa (self.fc1) przyjmuje 12672 cech wejściowych \n",
    "        i zmniejsza ich wymiar do 512 cech wyjściowych.\n",
    "        '''\n",
    "        # 12672 = 64 * 14 * 14 + 64 + 64\n",
    "        self.fc1 = nn.Linear(64 * 14 * 14 + 64 + 64, 512)  \n",
    "        # Krok 6: warstwa fully connected\n",
    "        self.fc2 = nn.Linear(512, 8) \n",
    "        \n",
    "        'The dropout rate was 0.3'\n",
    "        self.dropout = nn.Dropout(0.3)\n",
    "\n",
    "    def forward(self, x, label_1, label_2):\n",
    "        # Krok 1\n",
    "        x = self.pool(F.relu(self.batch_norm1(self.conv1(x))))\n",
    "        # Krok 2\n",
    "        x = self.pool(F.relu(self.batch_norm2(self.conv2(x))))\n",
    "        \n",
    "        # Spłaszczenie wyjścia warstw konwolucyjnych\n",
    "        x = x.view(x.size(0), -1)\n",
    "\n",
    "        label_1 = label_1.float()\n",
    "        label_2 = label_2.float()\n",
    "        label_1 = F.relu(self.fc_label1(label_1))\n",
    "        label_2 = F.relu(self.fc_label2(label_2))\n",
    "        \n",
    "        # Krok 4: konkatenacja\n",
    "        x = torch.cat((x, label_1, label_2), 1)\n",
    "        \n",
    "        # Krok 5: warstwa fully connected\n",
    "        x = F.relu(self.fc1(x))\n",
    "        x = self.dropout(x)\n",
    "        # Krok 6: warstwa fully connected\n",
    "        x = self.fc2(x)\n",
    "        \n",
    "        # Krok 6: softmax\n",
    "        x = F.log_softmax(x, dim=1)\n",
    "        \n",
    "        return x\n"
   ]
  },
  {
   "cell_type": "markdown",
   "metadata": {},
   "source": [
    "miscellaneous"
   ]
  },
  {
   "cell_type": "code",
   "execution_count": 25,
   "metadata": {},
   "outputs": [],
   "source": [
    "# dictionary that maps spatial relations to indices\n",
    "spatial_relation_to_index = {\n",
    "            'above': 0, 'below': 1, 'left': 2, 'right': 3,\n",
    "            'below left': 4, 'below right': 5, 'above left': 6, 'above right': 7\n",
    "        }\n",
    "batch_size = 32\n",
    "\n",
    "loaded_samples = load_samples(output_dir)\n",
    "\n",
    "# transformations for mini batch\n",
    "images = torch.stack([item[0] for item in loaded_samples])\n",
    "labels_1 = torch.tensor([item[1] for item in loaded_samples])\n",
    "labels_2 = torch.tensor([item[2] for item in loaded_samples])\n",
    "spatial_relations = [item[3] for item in loaded_samples]\n",
    "target_indices = torch.tensor([spatial_relation_to_index[rel] for rel in spatial_relations])\n",
    "dataset = TensorDataset(images, labels_1.float(), labels_2.float(), target_indices)\n",
    "data_loader = DataLoader(dataset, batch_size=batch_size, shuffle=True)\n",
    "\n",
    "\n",
    "# ustawienia dla early stopping\n",
    "val_output_dir='val_samples'\n",
    "val_samples = load_samples(val_output_dir)\n",
    "early_stopping_patience = 10\n",
    "min_delta = 0.0001  \n",
    "best_loss = float('inf')\n",
    "epochs_no_improve = 0\n",
    "best_model = None"
   ]
  },
  {
   "cell_type": "code",
   "execution_count": 26,
   "metadata": {},
   "outputs": [],
   "source": [
    "model = ThreeObjectCNN()\n",
    "\n",
    "'Adam was used for the optimiser. Categorical cross entropy was used for the cost function'\n",
    "optimizer = optim.Adam(model.parameters(), lr=0.001)\n",
    "criterion = nn.CrossEntropyLoss()\n",
    "\n",
    "'and rate decay was used to decrease it further after each epoch'\n",
    "scheduler = ExponentialLR(optimizer, gamma=0.95) \n",
    "\n",
    "model.train()\n",
    "\n",
    "train_losses = []\n",
    "val_losses = []\n",
    "num_epochs = 1000 "
   ]
  },
  {
   "cell_type": "markdown",
   "metadata": {},
   "source": [
    "#### trenowanie modelu"
   ]
  },
  {
   "cell_type": "code",
   "execution_count": 27,
   "metadata": {},
   "outputs": [
    {
     "name": "stdout",
     "output_type": "stream",
     "text": [
      "Epoch [1/1000], Loss: 1.9449\n",
      "Epoch [1/1000], Validation Loss: 1.8534\n",
      "epochs with no improvement: 0\n",
      "Epoch [2/1000], Loss: 1.8401\n",
      "Epoch [2/1000], Validation Loss: 1.8377\n",
      "epochs with no improvement: 0\n",
      "Epoch [3/1000], Loss: 1.8281\n",
      "Epoch [3/1000], Validation Loss: 1.8303\n",
      "epochs with no improvement: 0\n",
      "Epoch [4/1000], Loss: 1.8219\n",
      "Epoch [4/1000], Validation Loss: 1.8273\n",
      "epochs with no improvement: 0\n",
      "Epoch [5/1000], Loss: 1.8160\n",
      "Epoch [5/1000], Validation Loss: 1.8213\n",
      "epochs with no improvement: 0\n",
      "Epoch [6/1000], Loss: 1.3789\n",
      "Epoch [6/1000], Validation Loss: 1.0789\n",
      "epochs with no improvement: 0\n",
      "Epoch [7/1000], Loss: 0.9374\n",
      "Epoch [7/1000], Validation Loss: 0.9181\n",
      "epochs with no improvement: 0\n",
      "Epoch [8/1000], Loss: 0.7533\n",
      "Epoch [8/1000], Validation Loss: 0.8500\n",
      "epochs with no improvement: 0\n",
      "Epoch [9/1000], Loss: 0.6116\n",
      "Epoch [9/1000], Validation Loss: 0.8358\n",
      "epochs with no improvement: 0\n",
      "Epoch [10/1000], Loss: 0.4804\n",
      "Epoch [10/1000], Validation Loss: 0.8554\n",
      "epochs with no improvement: 1\n",
      "Epoch [11/1000], Loss: 0.3581\n",
      "Epoch [11/1000], Validation Loss: 0.9587\n",
      "epochs with no improvement: 2\n",
      "Epoch [12/1000], Loss: 0.2568\n",
      "Epoch [12/1000], Validation Loss: 1.0805\n",
      "epochs with no improvement: 3\n",
      "Epoch [13/1000], Loss: 0.1772\n",
      "Epoch [13/1000], Validation Loss: 1.2226\n",
      "epochs with no improvement: 4\n",
      "Epoch [14/1000], Loss: 0.1180\n",
      "Epoch [14/1000], Validation Loss: 1.4209\n",
      "epochs with no improvement: 5\n",
      "Epoch [15/1000], Loss: 0.0774\n",
      "Epoch [15/1000], Validation Loss: 1.5513\n",
      "epochs with no improvement: 6\n",
      "Epoch [16/1000], Loss: 0.0512\n",
      "Epoch [16/1000], Validation Loss: 1.6926\n",
      "epochs with no improvement: 7\n",
      "Epoch [17/1000], Loss: 0.0331\n",
      "Epoch [17/1000], Validation Loss: 1.9463\n",
      "epochs with no improvement: 8\n",
      "Epoch [18/1000], Loss: 0.0225\n",
      "Epoch [18/1000], Validation Loss: 2.0738\n",
      "epochs with no improvement: 9\n",
      "Epoch [19/1000], Loss: 0.0212\n",
      "Epoch [19/1000], Validation Loss: 2.1293\n",
      "Early stopping\n"
     ]
    }
   ],
   "source": [
    "for epoch in range(num_epochs):\n",
    "    total_loss = 0\n",
    "\n",
    "    for img_batch, label_1_batch, label_2_batch, target_batch in data_loader:\n",
    "        # każdy batch powinien mieć niezależny wpływ na aktualizację parametrów\n",
    "        optimizer.zero_grad()\n",
    "\n",
    "        # Forward pass\n",
    "        outputs = model(img_batch, label_1_batch, label_2_batch)\n",
    "        loss = criterion(outputs, target_batch)\n",
    "       \n",
    "        # Backward pass and optimize\n",
    "        loss.backward()\n",
    "        optimizer.step()\n",
    "\n",
    "        total_loss += loss.item() * img_batch.size(0)\n",
    "\n",
    "    scheduler.step()\n",
    "    train_losses.append(total_loss/len(loaded_samples))\n",
    "    print(f'Epoch [{epoch+1}/{num_epochs}], Loss: {total_loss/len(loaded_samples):.4f}')\n",
    "    if epoch % 100 == 0:\n",
    "        torch.save(model, f'model{epoch}.pth')\n",
    "\n",
    "    # early stopping\n",
    "    model.eval()\n",
    "    total_val_loss = 0\n",
    "    with torch.no_grad():\n",
    "        for img, label_1, label_2, spatial_relation in val_samples:\n",
    "            outputs = model(img.unsqueeze(0), torch.tensor([label_1], dtype=torch.float), torch.tensor([label_2], dtype=torch.float))\n",
    "            target_index = spatial_relation_to_index[spatial_relation]\n",
    "            loss = criterion(outputs, torch.tensor([target_index]))\n",
    "            total_val_loss += loss.item()\n",
    "\n",
    "    avg_val_loss = total_val_loss / len(val_samples)\n",
    "    val_losses.append(avg_val_loss)\n",
    "    print(f'Epoch [{epoch+1}/{num_epochs}], Validation Loss: {avg_val_loss:.4f}')\n",
    "\n",
    "    if avg_val_loss < best_loss - min_delta:\n",
    "        best_loss = avg_val_loss\n",
    "        epochs_no_improve = 0\n",
    "        best_model = deepcopy(model.state_dict())\n",
    "    else:\n",
    "        epochs_no_improve += 1\n",
    "        if epochs_no_improve >= early_stopping_patience:\n",
    "            print('Early stopping')\n",
    "            break\n",
    "    print(f'epochs with no improvement: {epochs_no_improve}')\n",
    "\n"
   ]
  },
  {
   "cell_type": "code",
   "execution_count": null,
   "metadata": {},
   "outputs": [],
   "source": [
    "# if best_model is not None:\n",
    "#     last_state = model.state_dict()\n",
    "#     model.load_state_dict(best_model)"
   ]
  },
  {
   "cell_type": "markdown",
   "metadata": {},
   "source": [
    "zapisywanie modelu"
   ]
  },
  {
   "cell_type": "code",
   "execution_count": 28,
   "metadata": {},
   "outputs": [],
   "source": [
    "torch.save(model, 'model.pth')\n",
    "if best_model is not None:\n",
    "    last_state = model.state_dict()\n",
    "    model.load_state_dict(best_model)\n",
    "    torch.save(model, 'modelbest.pth')\n"
   ]
  },
  {
   "cell_type": "markdown",
   "metadata": {},
   "source": [
    "zapisywanie historii"
   ]
  },
  {
   "cell_type": "code",
   "execution_count": 9,
   "metadata": {},
   "outputs": [],
   "source": [
    "loss_history = {\n",
    "    'train_losses': train_losses,\n",
    "    'val_losses': val_losses\n",
    "}\n",
    "\n",
    "with open('loss_history.pkl', 'wb') as file:\n",
    "    pickle.dump(loss_history, file)"
   ]
  },
  {
   "cell_type": "markdown",
   "metadata": {},
   "source": [
    "odczytanie historii z pliku"
   ]
  },
  {
   "cell_type": "code",
   "execution_count": 3,
   "metadata": {},
   "outputs": [],
   "source": [
    "with open('loss_history.pkl', 'rb') as file:\n",
    "    loaded_data = pickle.load(file)"
   ]
  },
  {
   "cell_type": "code",
   "execution_count": 15,
   "metadata": {},
   "outputs": [
    {
     "data": {
      "text/plain": [
       "ThreeObjectCNN(\n",
       "  (conv1): Conv2d(1, 32, kernel_size=(3, 3), stride=(1, 1), padding=(1, 1))\n",
       "  (batch_norm1): BatchNorm2d(32, eps=1e-05, momentum=0.1, affine=True, track_running_stats=True)\n",
       "  (pool): MaxPool2d(kernel_size=2, stride=2, padding=0, dilation=1, ceil_mode=False)\n",
       "  (conv2): Conv2d(32, 64, kernel_size=(3, 3), stride=(1, 1), padding=(1, 1))\n",
       "  (batch_norm2): BatchNorm2d(64, eps=1e-05, momentum=0.1, affine=True, track_running_stats=True)\n",
       "  (fc_label1): Linear(in_features=10, out_features=64, bias=True)\n",
       "  (fc_label2): Linear(in_features=10, out_features=64, bias=True)\n",
       "  (fc1): Linear(in_features=12672, out_features=512, bias=True)\n",
       "  (fc2): Linear(in_features=512, out_features=8, bias=True)\n",
       "  (dropout): Dropout(p=0.3, inplace=False)\n",
       ")"
      ]
     },
     "execution_count": 15,
     "metadata": {},
     "output_type": "execute_result"
    }
   ],
   "source": [
    "model = torch.load('model.pth')\n",
    "model.eval() "
   ]
  },
  {
   "cell_type": "code",
   "execution_count": 4,
   "metadata": {},
   "outputs": [
    {
     "data": {
      "image/png": "[encoded data removed]",
      "text/plain": [
       "<Figure size 1000x500 with 1 Axes>"
      ]
     },
     "metadata": {},
     "output_type": "display_data"
    }
   ],
   "source": [
    "plt.figure(figsize=(10, 5))\n",
    "plt.plot(loaded_data['train_losses'][:19], label='Training Loss')\n",
    "plt.plot(loaded_data['val_losses'][:19], label='Validation Loss')\n",
    "plt.title('Training and Validation Loss History')\n",
    "plt.xlabel('Epochs')\n",
    "plt.ylabel('Loss')\n",
    "plt.legend()\n",
    "plt.show()"
   ]
  },
  {
   "cell_type": "markdown",
   "metadata": {},
   "source": [
    "#### f-score\n"
   ]
  },
  {
   "cell_type": "code",
   "execution_count": 12,
   "metadata": {},
   "outputs": [],
   "source": [
    "from sklearn.metrics import  accuracy_score\n",
    "\n",
    "def calculate_f1(model, test_samples):\n",
    "    y_true = []\n",
    "    y_pred = []\n",
    "\n",
    "    model.eval()  \n",
    "\n",
    "    with torch.no_grad():  \n",
    "        for img, label_1, label_2, spatial_relation in test_samples:\n",
    "            outputs = model(img.unsqueeze(0), torch.tensor([label_1]), torch.tensor([label_2]))\n",
    "            _, predicted = torch.max(outputs.data, 1)\n",
    "\n",
    "            target_index = spatial_relation_to_index[spatial_relation]\n",
    "            y_true.append(target_index)\n",
    "            y_pred.append(predicted.item())\n",
    "    accuracy = accuracy_score(y_true, y_pred)\n",
    "\n",
    "    precision, recall, f1_score, _ = precision_recall_fscore_support(y_true, y_pred, average='weighted')\n",
    "\n",
    "    return precision, recall, f1_score, accuracy"
   ]
  },
  {
   "cell_type": "markdown",
   "metadata": {},
   "source": [
    "#### wyniki na danych testowych"
   ]
  },
  {
   "cell_type": "code",
   "execution_count": 29,
   "metadata": {},
   "outputs": [],
   "source": [
    "test_dir = 'test_samples'\n",
    "test_samples = load_samples(test_dir)"
   ]
  },
  {
   "cell_type": "markdown",
   "metadata": {},
   "source": [
    "final model"
   ]
  },
  {
   "cell_type": "code",
   "execution_count": 30,
   "metadata": {},
   "outputs": [
    {
     "name": "stdout",
     "output_type": "stream",
     "text": [
      "Precision: 0.6362709901346815, Recall: 0.636, F1 Score: 0.6358616853060202, Accuracy: 0.636\n"
     ]
    }
   ],
   "source": [
    "model = torch.load('model.pth')\n",
    "model.eval() \n",
    "precision, recall, f1_score, accuracy= calculate_f1(model, test_samples)\n",
    "print(f'Precision: {precision}, Recall: {recall}, F1 Score: {f1_score}, Accuracy: {accuracy}')"
   ]
  },
  {
   "cell_type": "markdown",
   "metadata": {},
   "source": [
    "Best model"
   ]
  },
  {
   "cell_type": "code",
   "execution_count": 31,
   "metadata": {},
   "outputs": [
    {
     "name": "stdout",
     "output_type": "stream",
     "text": [
      "Precision: 0.638956913529069, Recall: 0.6394, F1 Score: 0.6384107579194155, Accuracy: 0.6394\n"
     ]
    }
   ],
   "source": [
    "model = torch.load('modelbest.pth')\n",
    "model.eval() \n",
    "precision, recall, f1_score, accuracy= calculate_f1(model, test_samples)\n",
    "print(f'Precision: {precision}, Recall: {recall}, F1 Score: {f1_score}, Accuracy: {accuracy}')"
   ]
  },
  {
   "cell_type": "markdown",
   "metadata": {},
   "source": [
    "model after 100 epochs - jak w artykule"
   ]
  },
  {
   "cell_type": "code",
   "execution_count": 20,
   "metadata": {},
   "outputs": [
    {
     "name": "stdout",
     "output_type": "stream",
     "text": [
      "Precision: 0.3486243758123187, Recall: 0.348, F1 Score: 0.3476144797217671, Accuracy: 0.348\n"
     ]
    }
   ],
   "source": [
    "model = torch.load('model100.pth')\n",
    "model.eval() \n",
    "precision, recall, f1_score, accuracy= calculate_f1(model, test_samples)\n",
    "print(f'Precision: {precision}, Recall: {recall}, F1 Score: {f1_score}, Accuracy: {accuracy}')"
   ]
  }
 ],
 "metadata": {
  "kernelspec": {
   "display_name": "venv",
   "language": "python",
   "name": "python3"
  },
  "language_info": {
   "codemirror_mode": {
    "name": "ipython",
    "version": 3
   },
   "file_extension": ".py",
   "mimetype": "text/x-python",
   "name": "python",
   "nbconvert_exporter": "python",
   "pygments_lexer": "ipython3",
   "version": "3.11.9"
  }
 },
 "nbformat": 4,
 "nbformat_minor": 2
}
